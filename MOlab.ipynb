{
 "cells": [
  {
   "cell_type": "markdown",
   "metadata": {},
   "source": [
    "База данных содержит в себе информацию о смертности пожарных: First Name-имя, Last Name-фамилия, Age-возраст, Rank-должность, Classification-вид занятости, Date of Incident-дата происшествия, Date of Death-дата смерти, Cause Of Death Nature Of Death-природа смерти, Duty-активность службы, Activity-обязанности, Emergency-госпитализация, Property Type-место происшествия."
   ]
  },
  {
   "cell_type": "code",
   "execution_count": 1,
   "metadata": {
    "collapsed": true
   },
   "outputs": [],
   "source": [
    "import numpy as np\n",
    "import matplotlib.pyplot as plt\n",
    "import pandas as pd\n",
    "%matplotlib inline"
   ]
  },
  {
   "cell_type": "code",
   "execution_count": 2,
   "metadata": {
    "collapsed": true
   },
   "outputs": [],
   "source": [
    "data = pd.read_csv('databas.csv', sep = ',', engine = 'python')"
   ]
  },
  {
   "cell_type": "code",
   "execution_count": 3,
   "metadata": {},
   "outputs": [
    {
     "data": {
      "text/plain": [
       "pandas.core.frame.DataFrame"
      ]
     },
     "execution_count": 3,
     "metadata": {},
     "output_type": "execute_result"
    }
   ],
   "source": [
    "type(data)"
   ]
  },
  {
   "cell_type": "markdown",
   "metadata": {},
   "source": [
    "Выведем всю таблицу данных."
   ]
  },
  {
   "cell_type": "code",
   "execution_count": 4,
   "metadata": {},
   "outputs": [
    {
     "data": {
      "text/html": [
       "<div>\n",
       "<style>\n",
       "    .dataframe thead tr:only-child th {\n",
       "        text-align: right;\n",
       "    }\n",
       "\n",
       "    .dataframe thead th {\n",
       "        text-align: left;\n",
       "    }\n",
       "\n",
       "    .dataframe tbody tr th {\n",
       "        vertical-align: top;\n",
       "    }\n",
       "</style>\n",
       "<table border=\"1\" class=\"dataframe\">\n",
       "  <thead>\n",
       "    <tr style=\"text-align: right;\">\n",
       "      <th></th>\n",
       "      <th>First Name</th>\n",
       "      <th>Last Name</th>\n",
       "      <th>Age</th>\n",
       "      <th>Rank</th>\n",
       "      <th>Classification</th>\n",
       "      <th>Date of Incident</th>\n",
       "      <th>Date of Death</th>\n",
       "      <th>Cause Of Death</th>\n",
       "      <th>Nature Of Death</th>\n",
       "      <th>Duty</th>\n",
       "      <th>Activity</th>\n",
       "      <th>Emergency</th>\n",
       "      <th>Property Type</th>\n",
       "      <th>Unnamed: 13</th>\n",
       "    </tr>\n",
       "  </thead>\n",
       "  <tbody>\n",
       "    <tr>\n",
       "      <th>0</th>\n",
       "      <td>Robert</td>\n",
       "      <td>Pollard</td>\n",
       "      <td>64</td>\n",
       "      <td>Firefighter</td>\n",
       "      <td>Volunteer</td>\n",
       "      <td>Dec 31, 1999</td>\n",
       "      <td>Jan 1, 2000</td>\n",
       "      <td>Stress/Overexertion</td>\n",
       "      <td>Stroke</td>\n",
       "      <td>Response</td>\n",
       "      <td>Vehicle Passenger</td>\n",
       "      <td>Yes</td>\n",
       "      <td>Outdoor Property</td>\n",
       "      <td>NaN</td>\n",
       "    </tr>\n",
       "    <tr>\n",
       "      <th>1</th>\n",
       "      <td>Lee</td>\n",
       "      <td>Purdy</td>\n",
       "      <td>57</td>\n",
       "      <td>Pump Operator/Inspector</td>\n",
       "      <td>Volunteer</td>\n",
       "      <td>Jan 8, 2000</td>\n",
       "      <td>Jan 8, 2000</td>\n",
       "      <td>Stress/Overexertion</td>\n",
       "      <td>Heart Attack</td>\n",
       "      <td>On-Scene Fire</td>\n",
       "      <td>Advance Hose Lines/Fire Attack</td>\n",
       "      <td>Yes</td>\n",
       "      <td>Residential</td>\n",
       "      <td>NaN</td>\n",
       "    </tr>\n",
       "    <tr>\n",
       "      <th>2</th>\n",
       "      <td>Ronald</td>\n",
       "      <td>Osadacz</td>\n",
       "      <td>36</td>\n",
       "      <td>First Assistant Chief</td>\n",
       "      <td>Volunteer</td>\n",
       "      <td>Jan 11, 2000</td>\n",
       "      <td>Jan 11, 2000</td>\n",
       "      <td>Stress/Overexertion</td>\n",
       "      <td>Heart Attack</td>\n",
       "      <td>Response</td>\n",
       "      <td>Advance Hose Lines/Fire Attack</td>\n",
       "      <td>Yes</td>\n",
       "      <td>Street/Road</td>\n",
       "      <td>NaN</td>\n",
       "    </tr>\n",
       "    <tr>\n",
       "      <th>3</th>\n",
       "      <td>Allen</td>\n",
       "      <td>Streeter</td>\n",
       "      <td>58</td>\n",
       "      <td>Firefighter</td>\n",
       "      <td>Volunteer</td>\n",
       "      <td>Jan 11, 2000</td>\n",
       "      <td>Jan 11, 2000</td>\n",
       "      <td>Stress/Overexertion</td>\n",
       "      <td>Heart Attack</td>\n",
       "      <td>On-Scene Fire</td>\n",
       "      <td>Advance Hose Lines/Fire Attack</td>\n",
       "      <td>Yes</td>\n",
       "      <td>Outdoor Property</td>\n",
       "      <td>NaN</td>\n",
       "    </tr>\n",
       "    <tr>\n",
       "      <th>4</th>\n",
       "      <td>Gary</td>\n",
       "      <td>Bankert, Sr</td>\n",
       "      <td>37</td>\n",
       "      <td>Firefighter</td>\n",
       "      <td>Volunteer</td>\n",
       "      <td>Jan 15, 2000</td>\n",
       "      <td>Jan 15, 2000</td>\n",
       "      <td>Trapped</td>\n",
       "      <td>Suffocation</td>\n",
       "      <td>Training</td>\n",
       "      <td>Other</td>\n",
       "      <td>No</td>\n",
       "      <td>NaN</td>\n",
       "      <td>NaN</td>\n",
       "    </tr>\n",
       "    <tr>\n",
       "      <th>5</th>\n",
       "      <td>Juan</td>\n",
       "      <td>De Leon</td>\n",
       "      <td>53</td>\n",
       "      <td>Captain</td>\n",
       "      <td>Career</td>\n",
       "      <td>Jan 17, 2000</td>\n",
       "      <td>Jan 17, 2000</td>\n",
       "      <td>Stress/Overexertion</td>\n",
       "      <td>Heart Attack</td>\n",
       "      <td>On-Duty</td>\n",
       "      <td>Support</td>\n",
       "      <td>No</td>\n",
       "      <td>Store/Office</td>\n",
       "      <td>NaN</td>\n",
       "    </tr>\n",
       "    <tr>\n",
       "      <th>6</th>\n",
       "      <td>Ernest</td>\n",
       "      <td>Young</td>\n",
       "      <td>52</td>\n",
       "      <td>Firefighter/Trustee</td>\n",
       "      <td>Volunteer</td>\n",
       "      <td>Jan 16, 2000</td>\n",
       "      <td>Jan 17, 2000</td>\n",
       "      <td>Fall</td>\n",
       "      <td>Trauma</td>\n",
       "      <td>On-Duty</td>\n",
       "      <td>In-Station Duties</td>\n",
       "      <td>No</td>\n",
       "      <td>NaN</td>\n",
       "      <td>NaN</td>\n",
       "    </tr>\n",
       "    <tr>\n",
       "      <th>7</th>\n",
       "      <td>James</td>\n",
       "      <td>Altic</td>\n",
       "      <td>47</td>\n",
       "      <td>Fire Chief</td>\n",
       "      <td>Volunteer</td>\n",
       "      <td>Jan 17, 2000</td>\n",
       "      <td>Jan 17, 2000</td>\n",
       "      <td>Impact</td>\n",
       "      <td>Trauma</td>\n",
       "      <td>Response</td>\n",
       "      <td>Vehicle Driver</td>\n",
       "      <td>Yes</td>\n",
       "      <td>Street/Road</td>\n",
       "      <td>NaN</td>\n",
       "    </tr>\n",
       "    <tr>\n",
       "      <th>8</th>\n",
       "      <td>Brian</td>\n",
       "      <td>Burnett</td>\n",
       "      <td>23</td>\n",
       "      <td>Firefighter</td>\n",
       "      <td>Volunteer</td>\n",
       "      <td>Oct 28, 1999</td>\n",
       "      <td>Jan 22, 2000</td>\n",
       "      <td>Impact</td>\n",
       "      <td>Trauma</td>\n",
       "      <td>Response</td>\n",
       "      <td>Vehicle Driver</td>\n",
       "      <td>Yes</td>\n",
       "      <td>Street/Road</td>\n",
       "      <td>NaN</td>\n",
       "    </tr>\n",
       "    <tr>\n",
       "      <th>9</th>\n",
       "      <td>Walter</td>\n",
       "      <td>Gass</td>\n",
       "      <td>74</td>\n",
       "      <td>Captain</td>\n",
       "      <td>Volunteer</td>\n",
       "      <td>Jan 27, 2000</td>\n",
       "      <td>Jan 27, 2000</td>\n",
       "      <td>Exposure</td>\n",
       "      <td>Suffocation</td>\n",
       "      <td>On-Scene Fire</td>\n",
       "      <td>Advance Hose Lines/Fire Attack</td>\n",
       "      <td>Yes</td>\n",
       "      <td>Residential</td>\n",
       "      <td>NaN</td>\n",
       "    </tr>\n",
       "    <tr>\n",
       "      <th>10</th>\n",
       "      <td>Robert</td>\n",
       "      <td>Ketelson</td>\n",
       "      <td>59</td>\n",
       "      <td>Firefighter</td>\n",
       "      <td>Volunteer</td>\n",
       "      <td>Jan 27, 2000</td>\n",
       "      <td>Jan 27, 2000</td>\n",
       "      <td>Stress/Overexertion</td>\n",
       "      <td>Heart Attack</td>\n",
       "      <td>Response</td>\n",
       "      <td>Personal Vehicle Driver/Passenger</td>\n",
       "      <td>Yes</td>\n",
       "      <td>Street/Road</td>\n",
       "      <td>NaN</td>\n",
       "    </tr>\n",
       "    <tr>\n",
       "      <th>11</th>\n",
       "      <td>Douglas</td>\n",
       "      <td>Stevens</td>\n",
       "      <td>42</td>\n",
       "      <td>Firefighter, Training Officer</td>\n",
       "      <td>Volunteer</td>\n",
       "      <td>Feb 6, 2000</td>\n",
       "      <td>Feb 6, 2000</td>\n",
       "      <td>Stress/Overexertion</td>\n",
       "      <td>Heart Attack</td>\n",
       "      <td>On-Scene Fire</td>\n",
       "      <td>Ventilation</td>\n",
       "      <td>Yes</td>\n",
       "      <td>Residential</td>\n",
       "      <td>NaN</td>\n",
       "    </tr>\n",
       "    <tr>\n",
       "      <th>12</th>\n",
       "      <td>Richard</td>\n",
       "      <td>Spink</td>\n",
       "      <td>48</td>\n",
       "      <td>Fire Lieutenant</td>\n",
       "      <td>Career</td>\n",
       "      <td>Feb 13, 2000</td>\n",
       "      <td>Feb 13, 2000</td>\n",
       "      <td>Stress/Overexertion</td>\n",
       "      <td>Heart Attack</td>\n",
       "      <td>Training</td>\n",
       "      <td>Support</td>\n",
       "      <td>No</td>\n",
       "      <td>Street/Road</td>\n",
       "      <td>NaN</td>\n",
       "    </tr>\n",
       "    <tr>\n",
       "      <th>13</th>\n",
       "      <td>Kimberly</td>\n",
       "      <td>Smith</td>\n",
       "      <td>30</td>\n",
       "      <td>Firefighter</td>\n",
       "      <td>Career</td>\n",
       "      <td>Feb 14, 2000</td>\n",
       "      <td>Feb 14, 2000</td>\n",
       "      <td>Trapped</td>\n",
       "      <td>Suffocation</td>\n",
       "      <td>On-Scene Fire</td>\n",
       "      <td>Search and Rescue</td>\n",
       "      <td>Yes</td>\n",
       "      <td>Public Assembly</td>\n",
       "      <td>NaN</td>\n",
       "    </tr>\n",
       "    <tr>\n",
       "      <th>14</th>\n",
       "      <td>Lewis</td>\n",
       "      <td>Mayo III</td>\n",
       "      <td>44</td>\n",
       "      <td>Firefighter</td>\n",
       "      <td>Career</td>\n",
       "      <td>Feb 14, 2000</td>\n",
       "      <td>Feb 14, 2000</td>\n",
       "      <td>Trapped</td>\n",
       "      <td>Suffocation</td>\n",
       "      <td>On-Scene Fire</td>\n",
       "      <td>Search and Rescue</td>\n",
       "      <td>Yes</td>\n",
       "      <td>Public Assembly</td>\n",
       "      <td>NaN</td>\n",
       "    </tr>\n",
       "    <tr>\n",
       "      <th>15</th>\n",
       "      <td>Paul</td>\n",
       "      <td>Cooper</td>\n",
       "      <td>26</td>\n",
       "      <td>Firefighter</td>\n",
       "      <td>Volunteer</td>\n",
       "      <td>Feb 11, 2000</td>\n",
       "      <td>Feb 14, 2000</td>\n",
       "      <td>Impact</td>\n",
       "      <td>Trauma</td>\n",
       "      <td>Response</td>\n",
       "      <td>Vehicle Driver</td>\n",
       "      <td>Yes</td>\n",
       "      <td>Street/Road</td>\n",
       "      <td>NaN</td>\n",
       "    </tr>\n",
       "    <tr>\n",
       "      <th>16</th>\n",
       "      <td>James</td>\n",
       "      <td>Geiger</td>\n",
       "      <td>54</td>\n",
       "      <td>Firefighter-EMT</td>\n",
       "      <td>Volunteer</td>\n",
       "      <td>Feb 19, 2000</td>\n",
       "      <td>Feb 19, 2000</td>\n",
       "      <td>Stress/Overexertion</td>\n",
       "      <td>Heart Attack</td>\n",
       "      <td>Response</td>\n",
       "      <td>Personal Vehicle Driver/Passenger</td>\n",
       "      <td>Yes</td>\n",
       "      <td>Outdoor Property</td>\n",
       "      <td>NaN</td>\n",
       "    </tr>\n",
       "    <tr>\n",
       "      <th>17</th>\n",
       "      <td>Evangelino</td>\n",
       "      <td>Rodriguez</td>\n",
       "      <td>53</td>\n",
       "      <td>Sergeant</td>\n",
       "      <td>Career</td>\n",
       "      <td>Feb 21, 2000</td>\n",
       "      <td>Feb 21, 2000</td>\n",
       "      <td>Impact</td>\n",
       "      <td>Trauma</td>\n",
       "      <td>On-Scene Fire</td>\n",
       "      <td>Water Supply</td>\n",
       "      <td>Yes</td>\n",
       "      <td>Store/Office</td>\n",
       "      <td>NaN</td>\n",
       "    </tr>\n",
       "    <tr>\n",
       "      <th>18</th>\n",
       "      <td>Charles</td>\n",
       "      <td>Klick, Sr.</td>\n",
       "      <td>67</td>\n",
       "      <td>Incident Commander</td>\n",
       "      <td>Volunteer</td>\n",
       "      <td>Jan 17, 2000</td>\n",
       "      <td>Feb 23, 2000</td>\n",
       "      <td>Stress/Overexertion</td>\n",
       "      <td>Stroke</td>\n",
       "      <td>On-Scene Fire</td>\n",
       "      <td>Advance Hose Lines/Fire Attack</td>\n",
       "      <td>Yes</td>\n",
       "      <td>Outdoor Property</td>\n",
       "      <td>NaN</td>\n",
       "    </tr>\n",
       "    <tr>\n",
       "      <th>19</th>\n",
       "      <td>Robert</td>\n",
       "      <td>Jackson</td>\n",
       "      <td>35</td>\n",
       "      <td>Firefighter</td>\n",
       "      <td>Volunteer</td>\n",
       "      <td>Feb 29, 2000</td>\n",
       "      <td>Feb 29, 2000</td>\n",
       "      <td>Impact</td>\n",
       "      <td>Trauma</td>\n",
       "      <td>Response</td>\n",
       "      <td>Vehicle Driver</td>\n",
       "      <td>Yes</td>\n",
       "      <td>Street/Road</td>\n",
       "      <td>NaN</td>\n",
       "    </tr>\n",
       "    <tr>\n",
       "      <th>20</th>\n",
       "      <td>David</td>\n",
       "      <td>Sutton</td>\n",
       "      <td>27</td>\n",
       "      <td>Firefighter</td>\n",
       "      <td>Volunteer</td>\n",
       "      <td>Mar 4, 2000</td>\n",
       "      <td>Mar 4, 2000</td>\n",
       "      <td>Exposure</td>\n",
       "      <td>Suffocation</td>\n",
       "      <td>On-Scene Fire</td>\n",
       "      <td>Search and Rescue</td>\n",
       "      <td>Yes</td>\n",
       "      <td>Residential</td>\n",
       "      <td>NaN</td>\n",
       "    </tr>\n",
       "    <tr>\n",
       "      <th>21</th>\n",
       "      <td>Donald</td>\n",
       "      <td>Wilson</td>\n",
       "      <td>50</td>\n",
       "      <td>Assistant Chief</td>\n",
       "      <td>Volunteer</td>\n",
       "      <td>Mar 6, 2000</td>\n",
       "      <td>Mar 6, 2000</td>\n",
       "      <td>Stress/Overexertion</td>\n",
       "      <td>Heart Attack</td>\n",
       "      <td>On-Scene Fire</td>\n",
       "      <td>Ventilation</td>\n",
       "      <td>Yes</td>\n",
       "      <td>Residential</td>\n",
       "      <td>NaN</td>\n",
       "    </tr>\n",
       "    <tr>\n",
       "      <th>22</th>\n",
       "      <td>William</td>\n",
       "      <td>Blakemore</td>\n",
       "      <td>48</td>\n",
       "      <td>Private</td>\n",
       "      <td>Career</td>\n",
       "      <td>Mar 8, 2000</td>\n",
       "      <td>Mar 8, 2000</td>\n",
       "      <td>Impact</td>\n",
       "      <td>Violence</td>\n",
       "      <td>On-Scene Fire</td>\n",
       "      <td>Advance Hose Lines/Fire Attack</td>\n",
       "      <td>Yes</td>\n",
       "      <td>Residential</td>\n",
       "      <td>NaN</td>\n",
       "    </tr>\n",
       "    <tr>\n",
       "      <th>23</th>\n",
       "      <td>Javier</td>\n",
       "      <td>Lerma</td>\n",
       "      <td>41</td>\n",
       "      <td>Lieutenant</td>\n",
       "      <td>Career</td>\n",
       "      <td>Mar 8, 2000</td>\n",
       "      <td>Mar 8, 2000</td>\n",
       "      <td>Impact</td>\n",
       "      <td>Violence</td>\n",
       "      <td>On-Scene Fire</td>\n",
       "      <td>Advance Hose Lines/Fire Attack</td>\n",
       "      <td>Yes</td>\n",
       "      <td>Residential</td>\n",
       "      <td>NaN</td>\n",
       "    </tr>\n",
       "    <tr>\n",
       "      <th>24</th>\n",
       "      <td>Jerry</td>\n",
       "      <td>Coppin</td>\n",
       "      <td>56</td>\n",
       "      <td>Training Officer</td>\n",
       "      <td>Volunteer</td>\n",
       "      <td>Mar 7, 2000</td>\n",
       "      <td>Mar 11, 2000</td>\n",
       "      <td>Stress/Overexertion</td>\n",
       "      <td>Stroke</td>\n",
       "      <td>On-Scene Emergency</td>\n",
       "      <td>Other</td>\n",
       "      <td>Yes</td>\n",
       "      <td>Outdoor Property</td>\n",
       "      <td>NaN</td>\n",
       "    </tr>\n",
       "    <tr>\n",
       "      <th>25</th>\n",
       "      <td>Robert</td>\n",
       "      <td>Buhler</td>\n",
       "      <td>62</td>\n",
       "      <td>Firefighter</td>\n",
       "      <td>Volunteer</td>\n",
       "      <td>Mar 6, 2000</td>\n",
       "      <td>Mar 16, 2000</td>\n",
       "      <td>Exposure</td>\n",
       "      <td>Burns</td>\n",
       "      <td>On-Scene Fire</td>\n",
       "      <td>Advance Hose Lines/Fire Attack</td>\n",
       "      <td>Yes</td>\n",
       "      <td>Outdoor Property</td>\n",
       "      <td>NaN</td>\n",
       "    </tr>\n",
       "    <tr>\n",
       "      <th>26</th>\n",
       "      <td>David</td>\n",
       "      <td>Sharp II</td>\n",
       "      <td>31</td>\n",
       "      <td>Firefighter/Engineer</td>\n",
       "      <td>Career</td>\n",
       "      <td>Mar 17, 2000</td>\n",
       "      <td>Mar 17, 2000</td>\n",
       "      <td>Impact</td>\n",
       "      <td>Trauma</td>\n",
       "      <td>Response</td>\n",
       "      <td>Vehicle Driver</td>\n",
       "      <td>Yes</td>\n",
       "      <td>Street/Road</td>\n",
       "      <td>NaN</td>\n",
       "    </tr>\n",
       "    <tr>\n",
       "      <th>27</th>\n",
       "      <td>Kevin</td>\n",
       "      <td>Sterenchuk</td>\n",
       "      <td>48</td>\n",
       "      <td>Administrative District Chief</td>\n",
       "      <td>Career</td>\n",
       "      <td>Mar 27, 2000</td>\n",
       "      <td>Mar 27, 2000</td>\n",
       "      <td>Stress/Overexertion</td>\n",
       "      <td>Heart Attack</td>\n",
       "      <td>On-Duty</td>\n",
       "      <td>In-Station Duties</td>\n",
       "      <td>No</td>\n",
       "      <td>Store/Office</td>\n",
       "      <td>NaN</td>\n",
       "    </tr>\n",
       "    <tr>\n",
       "      <th>28</th>\n",
       "      <td>Michael</td>\n",
       "      <td>Queen</td>\n",
       "      <td>30</td>\n",
       "      <td>Chief</td>\n",
       "      <td>Volunteer</td>\n",
       "      <td>Mar 28, 2000</td>\n",
       "      <td>Mar 28, 2000</td>\n",
       "      <td>Impact</td>\n",
       "      <td>Trauma</td>\n",
       "      <td>On-Duty</td>\n",
       "      <td>In-Station Duties</td>\n",
       "      <td>No</td>\n",
       "      <td>NaN</td>\n",
       "      <td>NaN</td>\n",
       "    </tr>\n",
       "    <tr>\n",
       "      <th>29</th>\n",
       "      <td>Kendall</td>\n",
       "      <td>Bryant</td>\n",
       "      <td>36</td>\n",
       "      <td>Firefighter/EMT</td>\n",
       "      <td>Career</td>\n",
       "      <td>Mar 31, 2000</td>\n",
       "      <td>Mar 31, 2000</td>\n",
       "      <td>Trapped</td>\n",
       "      <td>Suffocation</td>\n",
       "      <td>On-Scene Fire</td>\n",
       "      <td>Advance Hose Lines/Fire Attack</td>\n",
       "      <td>Yes</td>\n",
       "      <td>Residential</td>\n",
       "      <td>NaN</td>\n",
       "    </tr>\n",
       "    <tr>\n",
       "      <th>...</th>\n",
       "      <td>...</td>\n",
       "      <td>...</td>\n",
       "      <td>...</td>\n",
       "      <td>...</td>\n",
       "      <td>...</td>\n",
       "      <td>...</td>\n",
       "      <td>...</td>\n",
       "      <td>...</td>\n",
       "      <td>...</td>\n",
       "      <td>...</td>\n",
       "      <td>...</td>\n",
       "      <td>...</td>\n",
       "      <td>...</td>\n",
       "      <td>...</td>\n",
       "    </tr>\n",
       "    <tr>\n",
       "      <th>1975</th>\n",
       "      <td>Jason</td>\n",
       "      <td>Anderson</td>\n",
       "      <td>30</td>\n",
       "      <td>Firefighter/EMT</td>\n",
       "      <td>Career</td>\n",
       "      <td>Aug 23, 2015</td>\n",
       "      <td>Aug 23, 2015</td>\n",
       "      <td>Other</td>\n",
       "      <td>Trauma</td>\n",
       "      <td>On-Duty</td>\n",
       "      <td>Not on Scene</td>\n",
       "      <td>No</td>\n",
       "      <td>NaN</td>\n",
       "      <td>NaN</td>\n",
       "    </tr>\n",
       "    <tr>\n",
       "      <th>1976</th>\n",
       "      <td>Carl</td>\n",
       "      <td>Phillips</td>\n",
       "      <td>41</td>\n",
       "      <td>Lieutenant</td>\n",
       "      <td>Career</td>\n",
       "      <td>Aug 26, 2015</td>\n",
       "      <td>Aug 27, 2015</td>\n",
       "      <td>Stress/Overexertion</td>\n",
       "      <td>Heart Attack</td>\n",
       "      <td>On-Duty</td>\n",
       "      <td>Not on Scene</td>\n",
       "      <td>No</td>\n",
       "      <td>Street/Road</td>\n",
       "      <td>NaN</td>\n",
       "    </tr>\n",
       "    <tr>\n",
       "      <th>1977</th>\n",
       "      <td>Shane</td>\n",
       "      <td>Clifton</td>\n",
       "      <td>38</td>\n",
       "      <td>Firefighter/Paramedic</td>\n",
       "      <td>Career</td>\n",
       "      <td>Aug 31, 2015</td>\n",
       "      <td>Aug 31, 2015</td>\n",
       "      <td>Stress/Overexertion</td>\n",
       "      <td>Heart Attack</td>\n",
       "      <td>Training</td>\n",
       "      <td>Fitness Activity</td>\n",
       "      <td>No</td>\n",
       "      <td>Store/Office</td>\n",
       "      <td>NaN</td>\n",
       "    </tr>\n",
       "    <tr>\n",
       "      <th>1978</th>\n",
       "      <td>Dennis</td>\n",
       "      <td>Rodeman</td>\n",
       "      <td>35</td>\n",
       "      <td>Firefighter</td>\n",
       "      <td>Career</td>\n",
       "      <td>Sep 9, 2015</td>\n",
       "      <td>Sep 9, 2015</td>\n",
       "      <td>Impact</td>\n",
       "      <td>Trauma</td>\n",
       "      <td>On-Duty</td>\n",
       "      <td>Not on Scene</td>\n",
       "      <td>No</td>\n",
       "      <td>NaN</td>\n",
       "      <td>NaN</td>\n",
       "    </tr>\n",
       "    <tr>\n",
       "      <th>1979</th>\n",
       "      <td>Daniel</td>\n",
       "      <td>Hampton</td>\n",
       "      <td>35</td>\n",
       "      <td>Firefighter/EMT</td>\n",
       "      <td>Part-Time (Paid)</td>\n",
       "      <td>Sep 18, 2015</td>\n",
       "      <td>Sep 18, 2015</td>\n",
       "      <td>Vehicle Collision</td>\n",
       "      <td>Trauma</td>\n",
       "      <td>NaN</td>\n",
       "      <td>Not on Scene</td>\n",
       "      <td>Yes</td>\n",
       "      <td>Street/Road</td>\n",
       "      <td>NaN</td>\n",
       "    </tr>\n",
       "    <tr>\n",
       "      <th>1980</th>\n",
       "      <td>Barry</td>\n",
       "      <td>Miller</td>\n",
       "      <td>50</td>\n",
       "      <td>Assistant Chief of EMS/Firefighter</td>\n",
       "      <td>Volunteer</td>\n",
       "      <td>Sep 23, 2015</td>\n",
       "      <td>Sep 23, 2015</td>\n",
       "      <td>Vehicle Collision</td>\n",
       "      <td>Trauma</td>\n",
       "      <td>Response</td>\n",
       "      <td>Emergency Response</td>\n",
       "      <td>Yes</td>\n",
       "      <td>Street/Road</td>\n",
       "      <td>NaN</td>\n",
       "    </tr>\n",
       "    <tr>\n",
       "      <th>1981</th>\n",
       "      <td>Sean</td>\n",
       "      <td>Benson, Sr.</td>\n",
       "      <td>50</td>\n",
       "      <td>Firefighter</td>\n",
       "      <td>Volunteer</td>\n",
       "      <td>Sep 23, 2015</td>\n",
       "      <td>Sep 23, 2015</td>\n",
       "      <td>Stress/Overexertion</td>\n",
       "      <td>Heart Attack</td>\n",
       "      <td>On-Duty</td>\n",
       "      <td>Not on Scene</td>\n",
       "      <td>No</td>\n",
       "      <td>NaN</td>\n",
       "      <td>NaN</td>\n",
       "    </tr>\n",
       "    <tr>\n",
       "      <th>1982</th>\n",
       "      <td>Stuart</td>\n",
       "      <td>Hardy</td>\n",
       "      <td>31</td>\n",
       "      <td>Firefighter/EMT</td>\n",
       "      <td>Career</td>\n",
       "      <td>Sep 13, 2015</td>\n",
       "      <td>Sep 24, 2015</td>\n",
       "      <td>Stress/Overexertion</td>\n",
       "      <td>Heart Attack</td>\n",
       "      <td>On-Scene Emergency</td>\n",
       "      <td>NaN</td>\n",
       "      <td>Yes</td>\n",
       "      <td>Street/Road</td>\n",
       "      <td>NaN</td>\n",
       "    </tr>\n",
       "    <tr>\n",
       "      <th>1983</th>\n",
       "      <td>Richard</td>\n",
       "      <td>Crosby, Sr.</td>\n",
       "      <td>67</td>\n",
       "      <td>Firefighter</td>\n",
       "      <td>Paid-on-Call</td>\n",
       "      <td>Sep 24, 2015</td>\n",
       "      <td>Sep 26, 2015</td>\n",
       "      <td>Stress/Overexertion</td>\n",
       "      <td>Heart Attack</td>\n",
       "      <td>On-Duty</td>\n",
       "      <td>Not on Scene</td>\n",
       "      <td>No</td>\n",
       "      <td>NaN</td>\n",
       "      <td>NaN</td>\n",
       "    </tr>\n",
       "    <tr>\n",
       "      <th>1984</th>\n",
       "      <td>Larry</td>\n",
       "      <td>Leggio</td>\n",
       "      <td>43</td>\n",
       "      <td>Fire Apparatus Operator</td>\n",
       "      <td>Career</td>\n",
       "      <td>Oct 12, 2015</td>\n",
       "      <td>Oct 12, 2015</td>\n",
       "      <td>Collapse</td>\n",
       "      <td>Trauma</td>\n",
       "      <td>On-Scene Fire</td>\n",
       "      <td>Setup</td>\n",
       "      <td>Yes</td>\n",
       "      <td>Residential</td>\n",
       "      <td>NaN</td>\n",
       "    </tr>\n",
       "    <tr>\n",
       "      <th>1985</th>\n",
       "      <td>John</td>\n",
       "      <td>Mesh</td>\n",
       "      <td>39</td>\n",
       "      <td>Firefighter</td>\n",
       "      <td>Career</td>\n",
       "      <td>Oct 12, 2015</td>\n",
       "      <td>Oct 12, 2015</td>\n",
       "      <td>Collapse</td>\n",
       "      <td>Trauma</td>\n",
       "      <td>On-Scene Fire</td>\n",
       "      <td>Setup</td>\n",
       "      <td>Yes</td>\n",
       "      <td>Residential</td>\n",
       "      <td>NaN</td>\n",
       "    </tr>\n",
       "    <tr>\n",
       "      <th>1986</th>\n",
       "      <td>Charles</td>\n",
       "      <td>Horning, II</td>\n",
       "      <td>54</td>\n",
       "      <td>Captain</td>\n",
       "      <td>Volunteer</td>\n",
       "      <td>Oct 13, 2015</td>\n",
       "      <td>Oct 13, 2015</td>\n",
       "      <td>Stress/Overexertion</td>\n",
       "      <td>Heart Attack</td>\n",
       "      <td>On-Duty</td>\n",
       "      <td>Not on Scene</td>\n",
       "      <td>No</td>\n",
       "      <td>NaN</td>\n",
       "      <td>NaN</td>\n",
       "    </tr>\n",
       "    <tr>\n",
       "      <th>1987</th>\n",
       "      <td>Gerald</td>\n",
       "      <td>Celecki</td>\n",
       "      <td>70</td>\n",
       "      <td>Fire Police Officer</td>\n",
       "      <td>Volunteer</td>\n",
       "      <td>Oct 14, 2015</td>\n",
       "      <td>Oct 14, 2015</td>\n",
       "      <td>Stress/Overexertion</td>\n",
       "      <td>Heart Attack</td>\n",
       "      <td>On-Scene Emergency</td>\n",
       "      <td>Scene Safety</td>\n",
       "      <td>Yes</td>\n",
       "      <td>Residential</td>\n",
       "      <td>NaN</td>\n",
       "    </tr>\n",
       "    <tr>\n",
       "      <th>1988</th>\n",
       "      <td>Larry</td>\n",
       "      <td>O'Neil</td>\n",
       "      <td>58</td>\n",
       "      <td>Firefighter</td>\n",
       "      <td>Volunteer</td>\n",
       "      <td>Oct 25, 2015</td>\n",
       "      <td>Oct 25, 2015</td>\n",
       "      <td>Stress/Overexertion</td>\n",
       "      <td>Heart Attack</td>\n",
       "      <td>On-Scene Emergency</td>\n",
       "      <td>Other</td>\n",
       "      <td>Yes</td>\n",
       "      <td>NaN</td>\n",
       "      <td>NaN</td>\n",
       "    </tr>\n",
       "    <tr>\n",
       "      <th>1989</th>\n",
       "      <td>Thomas</td>\n",
       "      <td>Kolarick</td>\n",
       "      <td>59</td>\n",
       "      <td>Deputy Chief</td>\n",
       "      <td>Volunteer</td>\n",
       "      <td>Sep 17, 2015</td>\n",
       "      <td>Nov 11, 2015</td>\n",
       "      <td>Stress/Overexertion</td>\n",
       "      <td>Heart Attack</td>\n",
       "      <td>On-Duty</td>\n",
       "      <td>NaN</td>\n",
       "      <td>Yes</td>\n",
       "      <td>NaN</td>\n",
       "      <td>NaN</td>\n",
       "    </tr>\n",
       "    <tr>\n",
       "      <th>1990</th>\n",
       "      <td>Vincent</td>\n",
       "      <td>Smith</td>\n",
       "      <td>49</td>\n",
       "      <td>Sergeant</td>\n",
       "      <td>Career</td>\n",
       "      <td>Nov 19, 2015</td>\n",
       "      <td>Nov 19, 2015</td>\n",
       "      <td>Stress/Overexertion</td>\n",
       "      <td>Heart Attack</td>\n",
       "      <td>On-Duty</td>\n",
       "      <td>Not on Scene</td>\n",
       "      <td>No</td>\n",
       "      <td>NaN</td>\n",
       "      <td>NaN</td>\n",
       "    </tr>\n",
       "    <tr>\n",
       "      <th>1991</th>\n",
       "      <td>Walter</td>\n",
       "      <td>Szelag</td>\n",
       "      <td>65</td>\n",
       "      <td>Captain</td>\n",
       "      <td>Career</td>\n",
       "      <td>Nov 20, 2015</td>\n",
       "      <td>Nov 20, 2015</td>\n",
       "      <td>Stress/Overexertion</td>\n",
       "      <td>Heart Attack</td>\n",
       "      <td>On-Duty</td>\n",
       "      <td>Not on Scene</td>\n",
       "      <td>No</td>\n",
       "      <td>Outdoor Property</td>\n",
       "      <td>NaN</td>\n",
       "    </tr>\n",
       "    <tr>\n",
       "      <th>1992</th>\n",
       "      <td>Terry</td>\n",
       "      <td>Culver</td>\n",
       "      <td>65</td>\n",
       "      <td>Assistant Fire Chief</td>\n",
       "      <td>Volunteer</td>\n",
       "      <td>Nov 12, 2015</td>\n",
       "      <td>Nov 24, 2015</td>\n",
       "      <td>Stress/Overexertion</td>\n",
       "      <td>Heart Attack</td>\n",
       "      <td>Response</td>\n",
       "      <td>Emergency Response</td>\n",
       "      <td>Yes</td>\n",
       "      <td>Residential</td>\n",
       "      <td>NaN</td>\n",
       "    </tr>\n",
       "    <tr>\n",
       "      <th>1993</th>\n",
       "      <td>Richard</td>\n",
       "      <td>Cano</td>\n",
       "      <td>35</td>\n",
       "      <td>Firefighter</td>\n",
       "      <td>Volunteer</td>\n",
       "      <td>Nov 22, 2015</td>\n",
       "      <td>Nov 29, 2015</td>\n",
       "      <td>Stress/Overexertion</td>\n",
       "      <td>Stroke</td>\n",
       "      <td>On-Duty</td>\n",
       "      <td>Not on Scene</td>\n",
       "      <td>No</td>\n",
       "      <td>NaN</td>\n",
       "      <td>NaN</td>\n",
       "    </tr>\n",
       "    <tr>\n",
       "      <th>1994</th>\n",
       "      <td>Scott</td>\n",
       "      <td>Carroll</td>\n",
       "      <td>48</td>\n",
       "      <td>Captain</td>\n",
       "      <td>Career</td>\n",
       "      <td>Nov 28, 2015</td>\n",
       "      <td>Nov 30, 2015</td>\n",
       "      <td>Stress/Overexertion</td>\n",
       "      <td>Stroke</td>\n",
       "      <td>On-Duty</td>\n",
       "      <td>Not on Scene</td>\n",
       "      <td>No</td>\n",
       "      <td>NaN</td>\n",
       "      <td>NaN</td>\n",
       "    </tr>\n",
       "    <tr>\n",
       "      <th>1995</th>\n",
       "      <td>Mark</td>\n",
       "      <td>Zielinski, Sr.</td>\n",
       "      <td>49</td>\n",
       "      <td>Firefighter/Paramedic</td>\n",
       "      <td>Career</td>\n",
       "      <td>Dec 4, 2015</td>\n",
       "      <td>Dec 4, 2015</td>\n",
       "      <td>Stress/Overexertion</td>\n",
       "      <td>Heart Attack</td>\n",
       "      <td>On-Scene Emergency</td>\n",
       "      <td>Other</td>\n",
       "      <td>Yes</td>\n",
       "      <td>Store/Office</td>\n",
       "      <td>NaN</td>\n",
       "    </tr>\n",
       "    <tr>\n",
       "      <th>1996</th>\n",
       "      <td>Zachary</td>\n",
       "      <td>Clevenger</td>\n",
       "      <td>30</td>\n",
       "      <td>Firefighter</td>\n",
       "      <td>Volunteer</td>\n",
       "      <td>Dec 4, 2015</td>\n",
       "      <td>Dec 5, 2015</td>\n",
       "      <td>Stress/Overexertion</td>\n",
       "      <td>Heart Attack</td>\n",
       "      <td>On-Duty</td>\n",
       "      <td>Not on Scene</td>\n",
       "      <td>No</td>\n",
       "      <td>NaN</td>\n",
       "      <td>NaN</td>\n",
       "    </tr>\n",
       "    <tr>\n",
       "      <th>1997</th>\n",
       "      <td>Lawrence</td>\n",
       "      <td>Millard</td>\n",
       "      <td>56</td>\n",
       "      <td>Firefighter</td>\n",
       "      <td>Volunteer</td>\n",
       "      <td>Dec 11, 2015</td>\n",
       "      <td>Dec 11, 2015</td>\n",
       "      <td>Impact</td>\n",
       "      <td>Trauma</td>\n",
       "      <td>On-Scene Emergency</td>\n",
       "      <td>Scene Safety</td>\n",
       "      <td>Yes</td>\n",
       "      <td>Street/Road</td>\n",
       "      <td>NaN</td>\n",
       "    </tr>\n",
       "    <tr>\n",
       "      <th>1998</th>\n",
       "      <td>Daniel</td>\n",
       "      <td>Capuano</td>\n",
       "      <td>43</td>\n",
       "      <td>Firefighter/Paramedic</td>\n",
       "      <td>Career</td>\n",
       "      <td>Dec 14, 2015</td>\n",
       "      <td>Dec 14, 2015</td>\n",
       "      <td>Fall</td>\n",
       "      <td>Trauma</td>\n",
       "      <td>On-Scene Fire</td>\n",
       "      <td>Search and Rescue</td>\n",
       "      <td>Yes</td>\n",
       "      <td>Storage</td>\n",
       "      <td>NaN</td>\n",
       "    </tr>\n",
       "    <tr>\n",
       "      <th>1999</th>\n",
       "      <td>Sidney</td>\n",
       "      <td>Winer</td>\n",
       "      <td>91</td>\n",
       "      <td>Firefighter</td>\n",
       "      <td>Volunteer</td>\n",
       "      <td>Oct 20, 2015</td>\n",
       "      <td>Dec 15, 2015</td>\n",
       "      <td>Vehicle Collision</td>\n",
       "      <td>Trauma</td>\n",
       "      <td>On-Duty</td>\n",
       "      <td>Not on Scene</td>\n",
       "      <td>No</td>\n",
       "      <td>Street/Road</td>\n",
       "      <td>NaN</td>\n",
       "    </tr>\n",
       "    <tr>\n",
       "      <th>2000</th>\n",
       "      <td>Jack</td>\n",
       "      <td>Rose</td>\n",
       "      <td>19</td>\n",
       "      <td>Captain</td>\n",
       "      <td>Volunteer</td>\n",
       "      <td>Dec 19, 2015</td>\n",
       "      <td>Dec 19, 2015</td>\n",
       "      <td>Disorientation</td>\n",
       "      <td>Suffocation</td>\n",
       "      <td>On-Scene Fire</td>\n",
       "      <td>Advance Hose Lines/Fire Attack</td>\n",
       "      <td>Yes</td>\n",
       "      <td>Residential</td>\n",
       "      <td>NaN</td>\n",
       "    </tr>\n",
       "    <tr>\n",
       "      <th>2001</th>\n",
       "      <td>Stacy</td>\n",
       "      <td>Crawford</td>\n",
       "      <td>47</td>\n",
       "      <td>Firefighter</td>\n",
       "      <td>Volunteer</td>\n",
       "      <td>Dec 19, 2015</td>\n",
       "      <td>Dec 19, 2015</td>\n",
       "      <td>Stress/Overexertion</td>\n",
       "      <td>Heart Attack</td>\n",
       "      <td>Training</td>\n",
       "      <td>Not on Scene</td>\n",
       "      <td>No</td>\n",
       "      <td>NaN</td>\n",
       "      <td>NaN</td>\n",
       "    </tr>\n",
       "    <tr>\n",
       "      <th>2002</th>\n",
       "      <td>Willie</td>\n",
       "      <td>Ratliff</td>\n",
       "      <td>66</td>\n",
       "      <td>Captain</td>\n",
       "      <td>Career</td>\n",
       "      <td>Dec 21, 2015</td>\n",
       "      <td>Dec 21, 2015</td>\n",
       "      <td>Stress/Overexertion</td>\n",
       "      <td>Heart Attack</td>\n",
       "      <td>On-Duty</td>\n",
       "      <td>Not on Scene</td>\n",
       "      <td>No</td>\n",
       "      <td>NaN</td>\n",
       "      <td>NaN</td>\n",
       "    </tr>\n",
       "    <tr>\n",
       "      <th>2003</th>\n",
       "      <td>Louis</td>\n",
       "      <td>Patti</td>\n",
       "      <td>67</td>\n",
       "      <td>Fire Police Officer</td>\n",
       "      <td>Volunteer</td>\n",
       "      <td>Dec 6, 2015</td>\n",
       "      <td>Dec 22, 2015</td>\n",
       "      <td>Stress/Overexertion</td>\n",
       "      <td>Stroke</td>\n",
       "      <td>On-Duty</td>\n",
       "      <td>Not on Scene</td>\n",
       "      <td>No</td>\n",
       "      <td>NaN</td>\n",
       "      <td>NaN</td>\n",
       "    </tr>\n",
       "    <tr>\n",
       "      <th>2004</th>\n",
       "      <td>Patrick</td>\n",
       "      <td>Wolterman</td>\n",
       "      <td>28</td>\n",
       "      <td>Firefighter</td>\n",
       "      <td>Career</td>\n",
       "      <td>Dec 28, 2015</td>\n",
       "      <td>Dec 28, 2015</td>\n",
       "      <td>Collapse</td>\n",
       "      <td>Suffocation</td>\n",
       "      <td>On-Scene Fire</td>\n",
       "      <td>Advance Hose Lines/Fire Attack</td>\n",
       "      <td>Yes</td>\n",
       "      <td>Residential</td>\n",
       "      <td>NaN</td>\n",
       "    </tr>\n",
       "  </tbody>\n",
       "</table>\n",
       "<p>2005 rows × 14 columns</p>\n",
       "</div>"
      ],
      "text/plain": [
       "      First Name       Last Name Age                                Rank  \\\n",
       "0         Robert         Pollard  64                         Firefighter   \n",
       "1            Lee           Purdy  57             Pump Operator/Inspector   \n",
       "2         Ronald         Osadacz  36               First Assistant Chief   \n",
       "3          Allen        Streeter  58                         Firefighter   \n",
       "4           Gary     Bankert, Sr  37                         Firefighter   \n",
       "5           Juan         De Leon  53                             Captain   \n",
       "6         Ernest           Young  52                 Firefighter/Trustee   \n",
       "7          James           Altic  47                          Fire Chief   \n",
       "8          Brian         Burnett  23                         Firefighter   \n",
       "9         Walter            Gass  74                             Captain   \n",
       "10        Robert        Ketelson  59                         Firefighter   \n",
       "11       Douglas         Stevens  42       Firefighter, Training Officer   \n",
       "12       Richard           Spink  48                     Fire Lieutenant   \n",
       "13      Kimberly           Smith  30                         Firefighter   \n",
       "14         Lewis        Mayo III  44                         Firefighter   \n",
       "15          Paul          Cooper  26                         Firefighter   \n",
       "16         James          Geiger  54                     Firefighter-EMT   \n",
       "17    Evangelino       Rodriguez  53                            Sergeant   \n",
       "18       Charles      Klick, Sr.  67                  Incident Commander   \n",
       "19        Robert         Jackson  35                         Firefighter   \n",
       "20         David          Sutton  27                         Firefighter   \n",
       "21        Donald          Wilson  50                     Assistant Chief   \n",
       "22       William       Blakemore  48                             Private   \n",
       "23        Javier           Lerma  41                          Lieutenant   \n",
       "24         Jerry          Coppin  56                    Training Officer   \n",
       "25        Robert          Buhler  62                         Firefighter   \n",
       "26         David        Sharp II  31                Firefighter/Engineer   \n",
       "27         Kevin      Sterenchuk  48       Administrative District Chief   \n",
       "28       Michael           Queen  30                               Chief   \n",
       "29       Kendall          Bryant  36                     Firefighter/EMT   \n",
       "...          ...             ...  ..                                 ...   \n",
       "1975       Jason        Anderson  30                     Firefighter/EMT   \n",
       "1976        Carl        Phillips  41                          Lieutenant   \n",
       "1977       Shane         Clifton  38               Firefighter/Paramedic   \n",
       "1978      Dennis         Rodeman  35                         Firefighter   \n",
       "1979      Daniel         Hampton  35                     Firefighter/EMT   \n",
       "1980       Barry          Miller  50  Assistant Chief of EMS/Firefighter   \n",
       "1981        Sean     Benson, Sr.  50                         Firefighter   \n",
       "1982      Stuart           Hardy  31                     Firefighter/EMT   \n",
       "1983     Richard     Crosby, Sr.  67                         Firefighter   \n",
       "1984       Larry          Leggio  43             Fire Apparatus Operator   \n",
       "1985        John            Mesh  39                         Firefighter   \n",
       "1986     Charles     Horning, II  54                             Captain   \n",
       "1987      Gerald         Celecki  70                 Fire Police Officer   \n",
       "1988       Larry          O'Neil  58                         Firefighter   \n",
       "1989      Thomas        Kolarick  59                        Deputy Chief   \n",
       "1990     Vincent           Smith  49                            Sergeant   \n",
       "1991      Walter          Szelag  65                             Captain   \n",
       "1992       Terry          Culver  65                Assistant Fire Chief   \n",
       "1993     Richard            Cano  35                         Firefighter   \n",
       "1994       Scott         Carroll  48                             Captain   \n",
       "1995        Mark  Zielinski, Sr.  49               Firefighter/Paramedic   \n",
       "1996     Zachary       Clevenger  30                         Firefighter   \n",
       "1997    Lawrence         Millard  56                         Firefighter   \n",
       "1998      Daniel         Capuano  43               Firefighter/Paramedic   \n",
       "1999      Sidney           Winer  91                         Firefighter   \n",
       "2000        Jack            Rose  19                             Captain   \n",
       "2001       Stacy        Crawford  47                         Firefighter   \n",
       "2002      Willie         Ratliff  66                             Captain   \n",
       "2003       Louis           Patti  67                 Fire Police Officer   \n",
       "2004     Patrick       Wolterman  28                         Firefighter   \n",
       "\n",
       "        Classification Date of Incident Date of Death       Cause Of Death  \\\n",
       "0            Volunteer     Dec 31, 1999   Jan 1, 2000  Stress/Overexertion   \n",
       "1            Volunteer      Jan 8, 2000   Jan 8, 2000  Stress/Overexertion   \n",
       "2            Volunteer     Jan 11, 2000  Jan 11, 2000  Stress/Overexertion   \n",
       "3            Volunteer     Jan 11, 2000  Jan 11, 2000  Stress/Overexertion   \n",
       "4            Volunteer     Jan 15, 2000  Jan 15, 2000              Trapped   \n",
       "5               Career     Jan 17, 2000  Jan 17, 2000  Stress/Overexertion   \n",
       "6            Volunteer     Jan 16, 2000  Jan 17, 2000                 Fall   \n",
       "7            Volunteer     Jan 17, 2000  Jan 17, 2000               Impact   \n",
       "8            Volunteer     Oct 28, 1999  Jan 22, 2000               Impact   \n",
       "9            Volunteer     Jan 27, 2000  Jan 27, 2000             Exposure   \n",
       "10           Volunteer     Jan 27, 2000  Jan 27, 2000  Stress/Overexertion   \n",
       "11           Volunteer      Feb 6, 2000   Feb 6, 2000  Stress/Overexertion   \n",
       "12              Career     Feb 13, 2000  Feb 13, 2000  Stress/Overexertion   \n",
       "13              Career     Feb 14, 2000  Feb 14, 2000              Trapped   \n",
       "14              Career     Feb 14, 2000  Feb 14, 2000              Trapped   \n",
       "15           Volunteer     Feb 11, 2000  Feb 14, 2000               Impact   \n",
       "16           Volunteer     Feb 19, 2000  Feb 19, 2000  Stress/Overexertion   \n",
       "17              Career     Feb 21, 2000  Feb 21, 2000               Impact   \n",
       "18           Volunteer     Jan 17, 2000  Feb 23, 2000  Stress/Overexertion   \n",
       "19           Volunteer     Feb 29, 2000  Feb 29, 2000               Impact   \n",
       "20           Volunteer      Mar 4, 2000   Mar 4, 2000             Exposure   \n",
       "21           Volunteer      Mar 6, 2000   Mar 6, 2000  Stress/Overexertion   \n",
       "22              Career      Mar 8, 2000   Mar 8, 2000               Impact   \n",
       "23              Career      Mar 8, 2000   Mar 8, 2000               Impact   \n",
       "24           Volunteer      Mar 7, 2000  Mar 11, 2000  Stress/Overexertion   \n",
       "25           Volunteer      Mar 6, 2000  Mar 16, 2000             Exposure   \n",
       "26              Career     Mar 17, 2000  Mar 17, 2000               Impact   \n",
       "27              Career     Mar 27, 2000  Mar 27, 2000  Stress/Overexertion   \n",
       "28           Volunteer     Mar 28, 2000  Mar 28, 2000               Impact   \n",
       "29              Career     Mar 31, 2000  Mar 31, 2000              Trapped   \n",
       "...                ...              ...           ...                  ...   \n",
       "1975            Career     Aug 23, 2015  Aug 23, 2015                Other   \n",
       "1976            Career     Aug 26, 2015  Aug 27, 2015  Stress/Overexertion   \n",
       "1977            Career     Aug 31, 2015  Aug 31, 2015  Stress/Overexertion   \n",
       "1978            Career      Sep 9, 2015   Sep 9, 2015               Impact   \n",
       "1979  Part-Time (Paid)     Sep 18, 2015  Sep 18, 2015    Vehicle Collision   \n",
       "1980         Volunteer     Sep 23, 2015  Sep 23, 2015    Vehicle Collision   \n",
       "1981         Volunteer     Sep 23, 2015  Sep 23, 2015  Stress/Overexertion   \n",
       "1982            Career     Sep 13, 2015  Sep 24, 2015  Stress/Overexertion   \n",
       "1983      Paid-on-Call     Sep 24, 2015  Sep 26, 2015  Stress/Overexertion   \n",
       "1984            Career     Oct 12, 2015  Oct 12, 2015             Collapse   \n",
       "1985            Career     Oct 12, 2015  Oct 12, 2015             Collapse   \n",
       "1986         Volunteer     Oct 13, 2015  Oct 13, 2015  Stress/Overexertion   \n",
       "1987         Volunteer     Oct 14, 2015  Oct 14, 2015  Stress/Overexertion   \n",
       "1988         Volunteer     Oct 25, 2015  Oct 25, 2015  Stress/Overexertion   \n",
       "1989         Volunteer     Sep 17, 2015  Nov 11, 2015  Stress/Overexertion   \n",
       "1990            Career     Nov 19, 2015  Nov 19, 2015  Stress/Overexertion   \n",
       "1991            Career     Nov 20, 2015  Nov 20, 2015  Stress/Overexertion   \n",
       "1992         Volunteer     Nov 12, 2015  Nov 24, 2015  Stress/Overexertion   \n",
       "1993         Volunteer     Nov 22, 2015  Nov 29, 2015  Stress/Overexertion   \n",
       "1994            Career     Nov 28, 2015  Nov 30, 2015  Stress/Overexertion   \n",
       "1995            Career      Dec 4, 2015   Dec 4, 2015  Stress/Overexertion   \n",
       "1996         Volunteer      Dec 4, 2015   Dec 5, 2015  Stress/Overexertion   \n",
       "1997         Volunteer     Dec 11, 2015  Dec 11, 2015               Impact   \n",
       "1998            Career     Dec 14, 2015  Dec 14, 2015                 Fall   \n",
       "1999         Volunteer     Oct 20, 2015  Dec 15, 2015    Vehicle Collision   \n",
       "2000         Volunteer     Dec 19, 2015  Dec 19, 2015       Disorientation   \n",
       "2001         Volunteer     Dec 19, 2015  Dec 19, 2015  Stress/Overexertion   \n",
       "2002            Career     Dec 21, 2015  Dec 21, 2015  Stress/Overexertion   \n",
       "2003         Volunteer      Dec 6, 2015  Dec 22, 2015  Stress/Overexertion   \n",
       "2004            Career     Dec 28, 2015  Dec 28, 2015             Collapse   \n",
       "\n",
       "     Nature Of Death                Duty                           Activity  \\\n",
       "0             Stroke            Response                  Vehicle Passenger   \n",
       "1       Heart Attack       On-Scene Fire     Advance Hose Lines/Fire Attack   \n",
       "2       Heart Attack            Response     Advance Hose Lines/Fire Attack   \n",
       "3       Heart Attack       On-Scene Fire     Advance Hose Lines/Fire Attack   \n",
       "4        Suffocation            Training                              Other   \n",
       "5       Heart Attack             On-Duty                            Support   \n",
       "6             Trauma             On-Duty                  In-Station Duties   \n",
       "7             Trauma            Response                     Vehicle Driver   \n",
       "8             Trauma            Response                     Vehicle Driver   \n",
       "9        Suffocation       On-Scene Fire     Advance Hose Lines/Fire Attack   \n",
       "10      Heart Attack            Response  Personal Vehicle Driver/Passenger   \n",
       "11      Heart Attack       On-Scene Fire                        Ventilation   \n",
       "12      Heart Attack            Training                            Support   \n",
       "13       Suffocation       On-Scene Fire                  Search and Rescue   \n",
       "14       Suffocation       On-Scene Fire                  Search and Rescue   \n",
       "15            Trauma            Response                     Vehicle Driver   \n",
       "16      Heart Attack            Response  Personal Vehicle Driver/Passenger   \n",
       "17            Trauma       On-Scene Fire                       Water Supply   \n",
       "18            Stroke       On-Scene Fire     Advance Hose Lines/Fire Attack   \n",
       "19            Trauma            Response                     Vehicle Driver   \n",
       "20       Suffocation       On-Scene Fire                  Search and Rescue   \n",
       "21      Heart Attack       On-Scene Fire                        Ventilation   \n",
       "22          Violence       On-Scene Fire     Advance Hose Lines/Fire Attack   \n",
       "23          Violence       On-Scene Fire     Advance Hose Lines/Fire Attack   \n",
       "24            Stroke  On-Scene Emergency                              Other   \n",
       "25             Burns       On-Scene Fire     Advance Hose Lines/Fire Attack   \n",
       "26            Trauma            Response                     Vehicle Driver   \n",
       "27      Heart Attack             On-Duty                  In-Station Duties   \n",
       "28            Trauma             On-Duty                  In-Station Duties   \n",
       "29       Suffocation       On-Scene Fire     Advance Hose Lines/Fire Attack   \n",
       "...              ...                 ...                                ...   \n",
       "1975          Trauma             On-Duty                       Not on Scene   \n",
       "1976    Heart Attack             On-Duty                       Not on Scene   \n",
       "1977    Heart Attack            Training                   Fitness Activity   \n",
       "1978          Trauma             On-Duty                       Not on Scene   \n",
       "1979          Trauma                 NaN                       Not on Scene   \n",
       "1980          Trauma            Response                 Emergency Response   \n",
       "1981    Heart Attack             On-Duty                       Not on Scene   \n",
       "1982    Heart Attack  On-Scene Emergency                                NaN   \n",
       "1983    Heart Attack             On-Duty                       Not on Scene   \n",
       "1984          Trauma       On-Scene Fire                              Setup   \n",
       "1985          Trauma       On-Scene Fire                              Setup   \n",
       "1986    Heart Attack             On-Duty                       Not on Scene   \n",
       "1987    Heart Attack  On-Scene Emergency                       Scene Safety   \n",
       "1988    Heart Attack  On-Scene Emergency                              Other   \n",
       "1989    Heart Attack             On-Duty                                NaN   \n",
       "1990    Heart Attack             On-Duty                       Not on Scene   \n",
       "1991    Heart Attack             On-Duty                       Not on Scene   \n",
       "1992    Heart Attack            Response                 Emergency Response   \n",
       "1993          Stroke             On-Duty                       Not on Scene   \n",
       "1994          Stroke             On-Duty                       Not on Scene   \n",
       "1995    Heart Attack  On-Scene Emergency                              Other   \n",
       "1996    Heart Attack             On-Duty                       Not on Scene   \n",
       "1997          Trauma  On-Scene Emergency                       Scene Safety   \n",
       "1998          Trauma       On-Scene Fire                  Search and Rescue   \n",
       "1999          Trauma             On-Duty                       Not on Scene   \n",
       "2000     Suffocation       On-Scene Fire     Advance Hose Lines/Fire Attack   \n",
       "2001    Heart Attack            Training                       Not on Scene   \n",
       "2002    Heart Attack             On-Duty                       Not on Scene   \n",
       "2003          Stroke             On-Duty                       Not on Scene   \n",
       "2004     Suffocation       On-Scene Fire     Advance Hose Lines/Fire Attack   \n",
       "\n",
       "     Emergency     Property Type Unnamed: 13  \n",
       "0          Yes  Outdoor Property         NaN  \n",
       "1          Yes       Residential         NaN  \n",
       "2          Yes       Street/Road         NaN  \n",
       "3          Yes  Outdoor Property         NaN  \n",
       "4           No               NaN         NaN  \n",
       "5           No      Store/Office         NaN  \n",
       "6           No               NaN         NaN  \n",
       "7          Yes       Street/Road         NaN  \n",
       "8          Yes       Street/Road         NaN  \n",
       "9          Yes       Residential         NaN  \n",
       "10         Yes       Street/Road         NaN  \n",
       "11         Yes       Residential         NaN  \n",
       "12          No       Street/Road         NaN  \n",
       "13         Yes   Public Assembly         NaN  \n",
       "14         Yes   Public Assembly         NaN  \n",
       "15         Yes       Street/Road         NaN  \n",
       "16         Yes  Outdoor Property         NaN  \n",
       "17         Yes      Store/Office         NaN  \n",
       "18         Yes  Outdoor Property         NaN  \n",
       "19         Yes       Street/Road         NaN  \n",
       "20         Yes       Residential         NaN  \n",
       "21         Yes       Residential         NaN  \n",
       "22         Yes       Residential         NaN  \n",
       "23         Yes       Residential         NaN  \n",
       "24         Yes  Outdoor Property         NaN  \n",
       "25         Yes  Outdoor Property         NaN  \n",
       "26         Yes       Street/Road         NaN  \n",
       "27          No      Store/Office         NaN  \n",
       "28          No               NaN         NaN  \n",
       "29         Yes       Residential         NaN  \n",
       "...        ...               ...         ...  \n",
       "1975        No               NaN         NaN  \n",
       "1976        No       Street/Road         NaN  \n",
       "1977        No      Store/Office         NaN  \n",
       "1978        No               NaN         NaN  \n",
       "1979       Yes       Street/Road         NaN  \n",
       "1980       Yes       Street/Road         NaN  \n",
       "1981        No               NaN         NaN  \n",
       "1982       Yes       Street/Road         NaN  \n",
       "1983        No               NaN         NaN  \n",
       "1984       Yes       Residential         NaN  \n",
       "1985       Yes       Residential         NaN  \n",
       "1986        No               NaN         NaN  \n",
       "1987       Yes       Residential         NaN  \n",
       "1988       Yes               NaN         NaN  \n",
       "1989       Yes               NaN         NaN  \n",
       "1990        No               NaN         NaN  \n",
       "1991        No  Outdoor Property         NaN  \n",
       "1992       Yes       Residential         NaN  \n",
       "1993        No               NaN         NaN  \n",
       "1994        No               NaN         NaN  \n",
       "1995       Yes      Store/Office         NaN  \n",
       "1996        No               NaN         NaN  \n",
       "1997       Yes       Street/Road         NaN  \n",
       "1998       Yes           Storage         NaN  \n",
       "1999        No       Street/Road         NaN  \n",
       "2000       Yes       Residential         NaN  \n",
       "2001        No               NaN         NaN  \n",
       "2002        No               NaN         NaN  \n",
       "2003        No               NaN         NaN  \n",
       "2004       Yes       Residential         NaN  \n",
       "\n",
       "[2005 rows x 14 columns]"
      ]
     },
     "execution_count": 4,
     "metadata": {},
     "output_type": "execute_result"
    }
   ],
   "source": [
    "data"
   ]
  },
  {
   "cell_type": "markdown",
   "metadata": {},
   "source": [
    "Вывведем 5 первых строк таблицы данных."
   ]
  },
  {
   "cell_type": "code",
   "execution_count": 5,
   "metadata": {},
   "outputs": [
    {
     "data": {
      "text/html": [
       "<div>\n",
       "<style>\n",
       "    .dataframe thead tr:only-child th {\n",
       "        text-align: right;\n",
       "    }\n",
       "\n",
       "    .dataframe thead th {\n",
       "        text-align: left;\n",
       "    }\n",
       "\n",
       "    .dataframe tbody tr th {\n",
       "        vertical-align: top;\n",
       "    }\n",
       "</style>\n",
       "<table border=\"1\" class=\"dataframe\">\n",
       "  <thead>\n",
       "    <tr style=\"text-align: right;\">\n",
       "      <th></th>\n",
       "      <th>First Name</th>\n",
       "      <th>Last Name</th>\n",
       "      <th>Age</th>\n",
       "      <th>Rank</th>\n",
       "      <th>Classification</th>\n",
       "      <th>Date of Incident</th>\n",
       "      <th>Date of Death</th>\n",
       "      <th>Cause Of Death</th>\n",
       "      <th>Nature Of Death</th>\n",
       "      <th>Duty</th>\n",
       "      <th>Activity</th>\n",
       "      <th>Emergency</th>\n",
       "      <th>Property Type</th>\n",
       "      <th>Unnamed: 13</th>\n",
       "    </tr>\n",
       "  </thead>\n",
       "  <tbody>\n",
       "    <tr>\n",
       "      <th>0</th>\n",
       "      <td>Robert</td>\n",
       "      <td>Pollard</td>\n",
       "      <td>64</td>\n",
       "      <td>Firefighter</td>\n",
       "      <td>Volunteer</td>\n",
       "      <td>Dec 31, 1999</td>\n",
       "      <td>Jan 1, 2000</td>\n",
       "      <td>Stress/Overexertion</td>\n",
       "      <td>Stroke</td>\n",
       "      <td>Response</td>\n",
       "      <td>Vehicle Passenger</td>\n",
       "      <td>Yes</td>\n",
       "      <td>Outdoor Property</td>\n",
       "      <td>NaN</td>\n",
       "    </tr>\n",
       "    <tr>\n",
       "      <th>1</th>\n",
       "      <td>Lee</td>\n",
       "      <td>Purdy</td>\n",
       "      <td>57</td>\n",
       "      <td>Pump Operator/Inspector</td>\n",
       "      <td>Volunteer</td>\n",
       "      <td>Jan 8, 2000</td>\n",
       "      <td>Jan 8, 2000</td>\n",
       "      <td>Stress/Overexertion</td>\n",
       "      <td>Heart Attack</td>\n",
       "      <td>On-Scene Fire</td>\n",
       "      <td>Advance Hose Lines/Fire Attack</td>\n",
       "      <td>Yes</td>\n",
       "      <td>Residential</td>\n",
       "      <td>NaN</td>\n",
       "    </tr>\n",
       "    <tr>\n",
       "      <th>2</th>\n",
       "      <td>Ronald</td>\n",
       "      <td>Osadacz</td>\n",
       "      <td>36</td>\n",
       "      <td>First Assistant Chief</td>\n",
       "      <td>Volunteer</td>\n",
       "      <td>Jan 11, 2000</td>\n",
       "      <td>Jan 11, 2000</td>\n",
       "      <td>Stress/Overexertion</td>\n",
       "      <td>Heart Attack</td>\n",
       "      <td>Response</td>\n",
       "      <td>Advance Hose Lines/Fire Attack</td>\n",
       "      <td>Yes</td>\n",
       "      <td>Street/Road</td>\n",
       "      <td>NaN</td>\n",
       "    </tr>\n",
       "    <tr>\n",
       "      <th>3</th>\n",
       "      <td>Allen</td>\n",
       "      <td>Streeter</td>\n",
       "      <td>58</td>\n",
       "      <td>Firefighter</td>\n",
       "      <td>Volunteer</td>\n",
       "      <td>Jan 11, 2000</td>\n",
       "      <td>Jan 11, 2000</td>\n",
       "      <td>Stress/Overexertion</td>\n",
       "      <td>Heart Attack</td>\n",
       "      <td>On-Scene Fire</td>\n",
       "      <td>Advance Hose Lines/Fire Attack</td>\n",
       "      <td>Yes</td>\n",
       "      <td>Outdoor Property</td>\n",
       "      <td>NaN</td>\n",
       "    </tr>\n",
       "    <tr>\n",
       "      <th>4</th>\n",
       "      <td>Gary</td>\n",
       "      <td>Bankert, Sr</td>\n",
       "      <td>37</td>\n",
       "      <td>Firefighter</td>\n",
       "      <td>Volunteer</td>\n",
       "      <td>Jan 15, 2000</td>\n",
       "      <td>Jan 15, 2000</td>\n",
       "      <td>Trapped</td>\n",
       "      <td>Suffocation</td>\n",
       "      <td>Training</td>\n",
       "      <td>Other</td>\n",
       "      <td>No</td>\n",
       "      <td>NaN</td>\n",
       "      <td>NaN</td>\n",
       "    </tr>\n",
       "  </tbody>\n",
       "</table>\n",
       "</div>"
      ],
      "text/plain": [
       "  First Name    Last Name Age                     Rank Classification  \\\n",
       "0     Robert      Pollard  64              Firefighter      Volunteer   \n",
       "1        Lee        Purdy  57  Pump Operator/Inspector      Volunteer   \n",
       "2     Ronald      Osadacz  36    First Assistant Chief      Volunteer   \n",
       "3      Allen     Streeter  58              Firefighter      Volunteer   \n",
       "4       Gary  Bankert, Sr  37              Firefighter      Volunteer   \n",
       "\n",
       "  Date of Incident Date of Death       Cause Of Death Nature Of Death  \\\n",
       "0     Dec 31, 1999   Jan 1, 2000  Stress/Overexertion          Stroke   \n",
       "1      Jan 8, 2000   Jan 8, 2000  Stress/Overexertion    Heart Attack   \n",
       "2     Jan 11, 2000  Jan 11, 2000  Stress/Overexertion    Heart Attack   \n",
       "3     Jan 11, 2000  Jan 11, 2000  Stress/Overexertion    Heart Attack   \n",
       "4     Jan 15, 2000  Jan 15, 2000              Trapped     Suffocation   \n",
       "\n",
       "            Duty                        Activity Emergency     Property Type  \\\n",
       "0       Response               Vehicle Passenger       Yes  Outdoor Property   \n",
       "1  On-Scene Fire  Advance Hose Lines/Fire Attack       Yes       Residential   \n",
       "2       Response  Advance Hose Lines/Fire Attack       Yes       Street/Road   \n",
       "3  On-Scene Fire  Advance Hose Lines/Fire Attack       Yes  Outdoor Property   \n",
       "4       Training                           Other        No               NaN   \n",
       "\n",
       "  Unnamed: 13  \n",
       "0         NaN  \n",
       "1         NaN  \n",
       "2         NaN  \n",
       "3         NaN  \n",
       "4         NaN  "
      ]
     },
     "execution_count": 5,
     "metadata": {},
     "output_type": "execute_result"
    }
   ],
   "source": [
    "data.head()"
   ]
  },
  {
   "cell_type": "markdown",
   "metadata": {},
   "source": [
    "Выведем последние 5 строк таблицы данных."
   ]
  },
  {
   "cell_type": "code",
   "execution_count": 6,
   "metadata": {},
   "outputs": [
    {
     "data": {
      "text/html": [
       "<div>\n",
       "<style>\n",
       "    .dataframe thead tr:only-child th {\n",
       "        text-align: right;\n",
       "    }\n",
       "\n",
       "    .dataframe thead th {\n",
       "        text-align: left;\n",
       "    }\n",
       "\n",
       "    .dataframe tbody tr th {\n",
       "        vertical-align: top;\n",
       "    }\n",
       "</style>\n",
       "<table border=\"1\" class=\"dataframe\">\n",
       "  <thead>\n",
       "    <tr style=\"text-align: right;\">\n",
       "      <th></th>\n",
       "      <th>First Name</th>\n",
       "      <th>Last Name</th>\n",
       "      <th>Age</th>\n",
       "      <th>Rank</th>\n",
       "      <th>Classification</th>\n",
       "      <th>Date of Incident</th>\n",
       "      <th>Date of Death</th>\n",
       "      <th>Cause Of Death</th>\n",
       "      <th>Nature Of Death</th>\n",
       "      <th>Duty</th>\n",
       "      <th>Activity</th>\n",
       "      <th>Emergency</th>\n",
       "      <th>Property Type</th>\n",
       "      <th>Unnamed: 13</th>\n",
       "    </tr>\n",
       "  </thead>\n",
       "  <tbody>\n",
       "    <tr>\n",
       "      <th>2000</th>\n",
       "      <td>Jack</td>\n",
       "      <td>Rose</td>\n",
       "      <td>19</td>\n",
       "      <td>Captain</td>\n",
       "      <td>Volunteer</td>\n",
       "      <td>Dec 19, 2015</td>\n",
       "      <td>Dec 19, 2015</td>\n",
       "      <td>Disorientation</td>\n",
       "      <td>Suffocation</td>\n",
       "      <td>On-Scene Fire</td>\n",
       "      <td>Advance Hose Lines/Fire Attack</td>\n",
       "      <td>Yes</td>\n",
       "      <td>Residential</td>\n",
       "      <td>NaN</td>\n",
       "    </tr>\n",
       "    <tr>\n",
       "      <th>2001</th>\n",
       "      <td>Stacy</td>\n",
       "      <td>Crawford</td>\n",
       "      <td>47</td>\n",
       "      <td>Firefighter</td>\n",
       "      <td>Volunteer</td>\n",
       "      <td>Dec 19, 2015</td>\n",
       "      <td>Dec 19, 2015</td>\n",
       "      <td>Stress/Overexertion</td>\n",
       "      <td>Heart Attack</td>\n",
       "      <td>Training</td>\n",
       "      <td>Not on Scene</td>\n",
       "      <td>No</td>\n",
       "      <td>NaN</td>\n",
       "      <td>NaN</td>\n",
       "    </tr>\n",
       "    <tr>\n",
       "      <th>2002</th>\n",
       "      <td>Willie</td>\n",
       "      <td>Ratliff</td>\n",
       "      <td>66</td>\n",
       "      <td>Captain</td>\n",
       "      <td>Career</td>\n",
       "      <td>Dec 21, 2015</td>\n",
       "      <td>Dec 21, 2015</td>\n",
       "      <td>Stress/Overexertion</td>\n",
       "      <td>Heart Attack</td>\n",
       "      <td>On-Duty</td>\n",
       "      <td>Not on Scene</td>\n",
       "      <td>No</td>\n",
       "      <td>NaN</td>\n",
       "      <td>NaN</td>\n",
       "    </tr>\n",
       "    <tr>\n",
       "      <th>2003</th>\n",
       "      <td>Louis</td>\n",
       "      <td>Patti</td>\n",
       "      <td>67</td>\n",
       "      <td>Fire Police Officer</td>\n",
       "      <td>Volunteer</td>\n",
       "      <td>Dec 6, 2015</td>\n",
       "      <td>Dec 22, 2015</td>\n",
       "      <td>Stress/Overexertion</td>\n",
       "      <td>Stroke</td>\n",
       "      <td>On-Duty</td>\n",
       "      <td>Not on Scene</td>\n",
       "      <td>No</td>\n",
       "      <td>NaN</td>\n",
       "      <td>NaN</td>\n",
       "    </tr>\n",
       "    <tr>\n",
       "      <th>2004</th>\n",
       "      <td>Patrick</td>\n",
       "      <td>Wolterman</td>\n",
       "      <td>28</td>\n",
       "      <td>Firefighter</td>\n",
       "      <td>Career</td>\n",
       "      <td>Dec 28, 2015</td>\n",
       "      <td>Dec 28, 2015</td>\n",
       "      <td>Collapse</td>\n",
       "      <td>Suffocation</td>\n",
       "      <td>On-Scene Fire</td>\n",
       "      <td>Advance Hose Lines/Fire Attack</td>\n",
       "      <td>Yes</td>\n",
       "      <td>Residential</td>\n",
       "      <td>NaN</td>\n",
       "    </tr>\n",
       "  </tbody>\n",
       "</table>\n",
       "</div>"
      ],
      "text/plain": [
       "     First Name  Last Name Age                 Rank Classification  \\\n",
       "2000       Jack       Rose  19              Captain      Volunteer   \n",
       "2001      Stacy   Crawford  47          Firefighter      Volunteer   \n",
       "2002     Willie    Ratliff  66              Captain         Career   \n",
       "2003      Louis      Patti  67  Fire Police Officer      Volunteer   \n",
       "2004    Patrick  Wolterman  28          Firefighter         Career   \n",
       "\n",
       "     Date of Incident Date of Death       Cause Of Death Nature Of Death  \\\n",
       "2000     Dec 19, 2015  Dec 19, 2015       Disorientation     Suffocation   \n",
       "2001     Dec 19, 2015  Dec 19, 2015  Stress/Overexertion    Heart Attack   \n",
       "2002     Dec 21, 2015  Dec 21, 2015  Stress/Overexertion    Heart Attack   \n",
       "2003      Dec 6, 2015  Dec 22, 2015  Stress/Overexertion          Stroke   \n",
       "2004     Dec 28, 2015  Dec 28, 2015             Collapse     Suffocation   \n",
       "\n",
       "               Duty                        Activity Emergency Property Type  \\\n",
       "2000  On-Scene Fire  Advance Hose Lines/Fire Attack       Yes   Residential   \n",
       "2001       Training                    Not on Scene        No           NaN   \n",
       "2002        On-Duty                    Not on Scene        No           NaN   \n",
       "2003        On-Duty                    Not on Scene        No           NaN   \n",
       "2004  On-Scene Fire  Advance Hose Lines/Fire Attack       Yes   Residential   \n",
       "\n",
       "     Unnamed: 13  \n",
       "2000         NaN  \n",
       "2001         NaN  \n",
       "2002         NaN  \n",
       "2003         NaN  \n",
       "2004         NaN  "
      ]
     },
     "execution_count": 6,
     "metadata": {},
     "output_type": "execute_result"
    }
   ],
   "source": [
    "data.tail()"
   ]
  },
  {
   "cell_type": "markdown",
   "metadata": {},
   "source": [
    "Посмотрим, сколько данных хранится"
   ]
  },
  {
   "cell_type": "code",
   "execution_count": 7,
   "metadata": {},
   "outputs": [
    {
     "name": "stdout",
     "output_type": "stream",
     "text": [
      "(2005, 14)\n"
     ]
    }
   ],
   "source": [
    "print(data.shape)"
   ]
  },
  {
   "cell_type": "markdown",
   "metadata": {},
   "source": [
    "Выведем название столбцов."
   ]
  },
  {
   "cell_type": "code",
   "execution_count": 8,
   "metadata": {},
   "outputs": [
    {
     "name": "stdout",
     "output_type": "stream",
     "text": [
      "Index(['First Name', 'Last Name', 'Age', 'Rank', 'Classification',\n",
      "       'Date of Incident', 'Date of Death', 'Cause Of Death',\n",
      "       'Nature Of Death', 'Duty', 'Activity', 'Emergency', 'Property Type',\n",
      "       'Unnamed: 13'],\n",
      "      dtype='object')\n"
     ]
    }
   ],
   "source": [
    "print(data.columns)"
   ]
  },
  {
   "cell_type": "markdown",
   "metadata": {},
   "source": [
    "Имеем 2005 строк и 14 столбцов. Названия столбцов так же выведены.\n",
    "\n",
    "Испытаем еще некоторые команды."
   ]
  },
  {
   "cell_type": "code",
   "execution_count": 9,
   "metadata": {},
   "outputs": [
    {
     "data": {
      "text/plain": [
       "0                              Firefighter\n",
       "1                  Pump Operator/Inspector\n",
       "2                    First Assistant Chief\n",
       "3                              Firefighter\n",
       "4                              Firefighter\n",
       "5                                  Captain\n",
       "6                      Firefighter/Trustee\n",
       "7                               Fire Chief\n",
       "8                              Firefighter\n",
       "9                                  Captain\n",
       "10                             Firefighter\n",
       "11           Firefighter, Training Officer\n",
       "12                         Fire Lieutenant\n",
       "13                             Firefighter\n",
       "14                             Firefighter\n",
       "15                             Firefighter\n",
       "16                         Firefighter-EMT\n",
       "17                                Sergeant\n",
       "18                      Incident Commander\n",
       "19                             Firefighter\n",
       "20                             Firefighter\n",
       "21                         Assistant Chief\n",
       "22                                 Private\n",
       "23                              Lieutenant\n",
       "24                        Training Officer\n",
       "25                             Firefighter\n",
       "26                    Firefighter/Engineer\n",
       "27           Administrative District Chief\n",
       "28                                   Chief\n",
       "29                         Firefighter/EMT\n",
       "                       ...                \n",
       "1975                       Firefighter/EMT\n",
       "1976                            Lieutenant\n",
       "1977                 Firefighter/Paramedic\n",
       "1978                           Firefighter\n",
       "1979                       Firefighter/EMT\n",
       "1980    Assistant Chief of EMS/Firefighter\n",
       "1981                           Firefighter\n",
       "1982                       Firefighter/EMT\n",
       "1983                           Firefighter\n",
       "1984               Fire Apparatus Operator\n",
       "1985                           Firefighter\n",
       "1986                               Captain\n",
       "1987                   Fire Police Officer\n",
       "1988                           Firefighter\n",
       "1989                          Deputy Chief\n",
       "1990                              Sergeant\n",
       "1991                               Captain\n",
       "1992                  Assistant Fire Chief\n",
       "1993                           Firefighter\n",
       "1994                               Captain\n",
       "1995                 Firefighter/Paramedic\n",
       "1996                           Firefighter\n",
       "1997                           Firefighter\n",
       "1998                 Firefighter/Paramedic\n",
       "1999                           Firefighter\n",
       "2000                               Captain\n",
       "2001                           Firefighter\n",
       "2002                               Captain\n",
       "2003                   Fire Police Officer\n",
       "2004                           Firefighter\n",
       "Name: Rank, Length: 2005, dtype: object"
      ]
     },
     "execution_count": 9,
     "metadata": {},
     "output_type": "execute_result"
    }
   ],
   "source": [
    "data['Rank']"
   ]
  },
  {
   "cell_type": "code",
   "execution_count": 10,
   "metadata": {},
   "outputs": [
    {
     "data": {
      "text/plain": [
       "'object'"
      ]
     },
     "execution_count": 10,
     "metadata": {},
     "output_type": "execute_result"
    }
   ],
   "source": [
    "data['Duty'].dtype.name"
   ]
  },
  {
   "cell_type": "code",
   "execution_count": 11,
   "metadata": {},
   "outputs": [
    {
     "data": {
      "text/html": [
       "<div>\n",
       "<style>\n",
       "    .dataframe thead tr:only-child th {\n",
       "        text-align: right;\n",
       "    }\n",
       "\n",
       "    .dataframe thead th {\n",
       "        text-align: left;\n",
       "    }\n",
       "\n",
       "    .dataframe tbody tr th {\n",
       "        vertical-align: top;\n",
       "    }\n",
       "</style>\n",
       "<table border=\"1\" class=\"dataframe\">\n",
       "  <thead>\n",
       "    <tr style=\"text-align: right;\">\n",
       "      <th></th>\n",
       "      <th>First Name</th>\n",
       "      <th>Last Name</th>\n",
       "      <th>Age</th>\n",
       "      <th>Rank</th>\n",
       "      <th>Classification</th>\n",
       "      <th>Date of Incident</th>\n",
       "      <th>Date of Death</th>\n",
       "      <th>Cause Of Death</th>\n",
       "      <th>Nature Of Death</th>\n",
       "      <th>Duty</th>\n",
       "      <th>Activity</th>\n",
       "      <th>Emergency</th>\n",
       "      <th>Property Type</th>\n",
       "      <th>Unnamed: 13</th>\n",
       "    </tr>\n",
       "  </thead>\n",
       "  <tbody>\n",
       "    <tr>\n",
       "      <th>count</th>\n",
       "      <td>2005</td>\n",
       "      <td>2004</td>\n",
       "      <td>1646</td>\n",
       "      <td>1998</td>\n",
       "      <td>2002</td>\n",
       "      <td>2004</td>\n",
       "      <td>2005</td>\n",
       "      <td>1995</td>\n",
       "      <td>2002</td>\n",
       "      <td>2002</td>\n",
       "      <td>1996</td>\n",
       "      <td>2005</td>\n",
       "      <td>1800</td>\n",
       "      <td>1</td>\n",
       "    </tr>\n",
       "    <tr>\n",
       "      <th>unique</th>\n",
       "      <td>500</td>\n",
       "      <td>1672</td>\n",
       "      <td>75</td>\n",
       "      <td>259</td>\n",
       "      <td>9</td>\n",
       "      <td>1325</td>\n",
       "      <td>1339</td>\n",
       "      <td>14</td>\n",
       "      <td>12</td>\n",
       "      <td>7</td>\n",
       "      <td>23</td>\n",
       "      <td>3</td>\n",
       "      <td>12</td>\n",
       "      <td>1</td>\n",
       "    </tr>\n",
       "    <tr>\n",
       "      <th>top</th>\n",
       "      <td>Michael</td>\n",
       "      <td>Smith</td>\n",
       "      <td>54</td>\n",
       "      <td>Firefighter</td>\n",
       "      <td>Career</td>\n",
       "      <td>Sep 11, 2001</td>\n",
       "      <td>Sep 11, 2001</td>\n",
       "      <td>Stress/Overexertion</td>\n",
       "      <td>Trauma</td>\n",
       "      <td>On-Scene Fire</td>\n",
       "      <td>Search and Rescue</td>\n",
       "      <td>Yes</td>\n",
       "      <td>Store/Office</td>\n",
       "      <td>Street/Road</td>\n",
       "    </tr>\n",
       "    <tr>\n",
       "      <th>freq</th>\n",
       "      <td>86</td>\n",
       "      <td>19</td>\n",
       "      <td>53</td>\n",
       "      <td>899</td>\n",
       "      <td>952</td>\n",
       "      <td>343</td>\n",
       "      <td>343</td>\n",
       "      <td>843</td>\n",
       "      <td>845</td>\n",
       "      <td>881</td>\n",
       "      <td>427</td>\n",
       "      <td>1354</td>\n",
       "      <td>584</td>\n",
       "      <td>1</td>\n",
       "    </tr>\n",
       "  </tbody>\n",
       "</table>\n",
       "</div>"
      ],
      "text/plain": [
       "       First Name Last Name   Age         Rank Classification  \\\n",
       "count        2005      2004  1646         1998           2002   \n",
       "unique        500      1672    75          259              9   \n",
       "top       Michael     Smith    54  Firefighter         Career   \n",
       "freq           86        19    53          899            952   \n",
       "\n",
       "       Date of Incident Date of Death       Cause Of Death Nature Of Death  \\\n",
       "count              2004          2005                 1995            2002   \n",
       "unique             1325          1339                   14              12   \n",
       "top        Sep 11, 2001  Sep 11, 2001  Stress/Overexertion          Trauma   \n",
       "freq                343           343                  843             845   \n",
       "\n",
       "                 Duty           Activity Emergency Property Type  Unnamed: 13  \n",
       "count            2002               1996      2005          1800            1  \n",
       "unique              7                 23         3            12            1  \n",
       "top     On-Scene Fire  Search and Rescue       Yes  Store/Office  Street/Road  \n",
       "freq              881                427      1354           584            1  "
      ]
     },
     "execution_count": 11,
     "metadata": {},
     "output_type": "execute_result"
    }
   ],
   "source": [
    "data.describe()"
   ]
  },
  {
   "cell_type": "code",
   "execution_count": 12,
   "metadata": {},
   "outputs": [
    {
     "data": {
      "image/png": "[encoded data removed]",
      "text/plain": [
       "<matplotlib.figure.Figure at 0x2150117a9e8>"
      ]
     },
     "metadata": {},
     "output_type": "display_data"
    }
   ],
   "source": [
    "plt.plot(data['Emergency'], data['Nature Of Death'], 'o', alpha = 0.05)\n",
    "plt.xlabel('Emergency')\n",
    "plt.ylabel('Nature Of Death')\n",
    "pass"
   ]
  },
  {
   "cell_type": "markdown",
   "metadata": {},
   "source": [
    "Подготовка данных Для начала разделим все признаки на колличественные и категориальные."
   ]
  },
  {
   "cell_type": "code",
   "execution_count": 13,
   "metadata": {},
   "outputs": [
    {
     "name": "stdout",
     "output_type": "stream",
     "text": [
      "Categorical: \n",
      "['First Name', 'Last Name', 'Age', 'Rank', 'Classification', 'Date of Incident', 'Date of Death', 'Cause Of Death', 'Nature Of Death', 'Duty', 'Activity', 'Emergency', 'Property Type', 'Unnamed: 13']\n",
      "Numerical: \n",
      "[]\n",
      "\n",
      "Size of table: (2005, 14)\n"
     ]
    }
   ],
   "source": [
    "categorical_cols = [col for col in data.columns if data[col].dtype.name == \"object\"]\n",
    "numerical_cols = [col for col in data.columns if data[col].dtype.name != \"object\"]\n",
    "print(\"Categorical: \\n\" + str(categorical_cols))\n",
    "print(\"Numerical: \\n\" + str(numerical_cols))\n",
    "print(\"\\nSize of table: \" + str(data.shape))"
   ]
  },
  {
   "cell_type": "markdown",
   "metadata": {},
   "source": [
    "Уберем следующие параметры, для облегчения вычислений и т.к. логически данные параметры не влияют на предсказываемое значение."
   ]
  },
  {
   "cell_type": "code",
   "execution_count": 14,
   "metadata": {
    "collapsed": true
   },
   "outputs": [],
   "source": [
    "data = data.drop('First Name', axis=1)\n",
    "data = data.drop('Last Name', axis=1)\n",
    "data = data.drop('Date of Incident', axis=1)\n",
    "data = data.drop('Date of Death', axis=1)\n",
    "data = data.drop('Unnamed: 13', axis=1)"
   ]
  },
  {
   "cell_type": "markdown",
   "metadata": {},
   "source": [
    "Посмотрим на разделение по признакам"
   ]
  },
  {
   "cell_type": "code",
   "execution_count": 15,
   "metadata": {},
   "outputs": [
    {
     "name": "stdout",
     "output_type": "stream",
     "text": [
      "Categorical: \n",
      "['Age', 'Rank', 'Classification', 'Cause Of Death', 'Nature Of Death', 'Duty', 'Activity', 'Emergency', 'Property Type']\n",
      "Numerical: \n",
      "[]\n",
      "\n",
      "Size of table: (2005, 9)\n"
     ]
    }
   ],
   "source": [
    "categorical_cols = [col for col in data.columns if data[col].dtype.name == \"object\"]\n",
    "numerical_cols = [col for col in data.columns if data[col].dtype.name != \"object\"]\n",
    "print(\"Categorical: \\n\" + str(categorical_cols))\n",
    "print(\"Numerical: \\n\" + str(numerical_cols))\n",
    "print(\"\\nSize of table: \" + str(data.shape))"
   ]
  },
  {
   "cell_type": "code",
   "execution_count": 16,
   "metadata": {},
   "outputs": [
    {
     "data": {
      "text/plain": [
       "Age                1646\n",
       "Rank               1998\n",
       "Classification     2002\n",
       "Cause Of Death     1995\n",
       "Nature Of Death    2002\n",
       "Duty               2002\n",
       "Activity           1996\n",
       "Emergency          2005\n",
       "Property Type      1800\n",
       "dtype: int64"
      ]
     },
     "execution_count": 16,
     "metadata": {},
     "output_type": "execute_result"
    }
   ],
   "source": [
    "data[categorical_cols].count(axis = 0)"
   ]
  },
  {
   "cell_type": "code",
   "execution_count": 17,
   "metadata": {
    "collapsed": true
   },
   "outputs": [],
   "source": [
    "data = data.dropna(subset=['Age'])"
   ]
  },
  {
   "cell_type": "code",
   "execution_count": 18,
   "metadata": {},
   "outputs": [
    {
     "data": {
      "text/plain": [
       "Age                1646\n",
       "Rank               1646\n",
       "Classification     1645\n",
       "Cause Of Death     1637\n",
       "Nature Of Death    1644\n",
       "Duty               1644\n",
       "Activity           1639\n",
       "Emergency          1646\n",
       "Property Type      1448\n",
       "dtype: int64"
      ]
     },
     "execution_count": 18,
     "metadata": {},
     "output_type": "execute_result"
    }
   ],
   "source": [
    "data[categorical_cols].count(axis = 0)"
   ]
  },
  {
   "cell_type": "code",
   "execution_count": 19,
   "metadata": {
    "collapsed": true
   },
   "outputs": [],
   "source": [
    "data = data.dropna(subset=['Property Type'])"
   ]
  },
  {
   "cell_type": "code",
   "execution_count": 20,
   "metadata": {
    "collapsed": true
   },
   "outputs": [],
   "source": [
    "data = data.dropna(subset=['Cause Of Death'])"
   ]
  },
  {
   "cell_type": "code",
   "execution_count": 21,
   "metadata": {},
   "outputs": [
    {
     "data": {
      "text/plain": [
       "Age                1441\n",
       "Rank               1441\n",
       "Classification     1440\n",
       "Cause Of Death     1441\n",
       "Nature Of Death    1440\n",
       "Duty               1440\n",
       "Activity           1437\n",
       "Emergency          1441\n",
       "Property Type      1441\n",
       "dtype: int64"
      ]
     },
     "execution_count": 21,
     "metadata": {},
     "output_type": "execute_result"
    }
   ],
   "source": [
    "data[categorical_cols].count(axis = 0)"
   ]
  },
  {
   "cell_type": "code",
   "execution_count": 22,
   "metadata": {},
   "outputs": [
    {
     "data": {
      "text/plain": [
       "'Other'"
      ]
     },
     "execution_count": 22,
     "metadata": {},
     "output_type": "execute_result"
    }
   ],
   "source": [
    "data['Activity'].describe().top"
   ]
  },
  {
   "cell_type": "code",
   "execution_count": 23,
   "metadata": {
    "collapsed": true
   },
   "outputs": [],
   "source": [
    "data['Activity'] = data['Activity'].fillna('Other')"
   ]
  },
  {
   "cell_type": "code",
   "execution_count": 24,
   "metadata": {},
   "outputs": [
    {
     "data": {
      "text/plain": [
       "Age                1441\n",
       "Rank               1441\n",
       "Classification     1440\n",
       "Cause Of Death     1441\n",
       "Nature Of Death    1440\n",
       "Duty               1440\n",
       "Activity           1441\n",
       "Emergency          1441\n",
       "Property Type      1441\n",
       "dtype: int64"
      ]
     },
     "execution_count": 24,
     "metadata": {},
     "output_type": "execute_result"
    }
   ],
   "source": [
    "data[categorical_cols].count(axis = 0)"
   ]
  },
  {
   "cell_type": "code",
   "execution_count": 25,
   "metadata": {},
   "outputs": [
    {
     "data": {
      "text/plain": [
       "'Volunteer'"
      ]
     },
     "execution_count": 25,
     "metadata": {},
     "output_type": "execute_result"
    }
   ],
   "source": [
    "data['Classification'].describe().top"
   ]
  },
  {
   "cell_type": "code",
   "execution_count": 26,
   "metadata": {
    "collapsed": true
   },
   "outputs": [],
   "source": [
    "data['Classification'] = data['Classification'].fillna('Volunteer')"
   ]
  },
  {
   "cell_type": "code",
   "execution_count": 27,
   "metadata": {},
   "outputs": [
    {
     "data": {
      "text/plain": [
       "'Heart Attack'"
      ]
     },
     "execution_count": 27,
     "metadata": {},
     "output_type": "execute_result"
    }
   ],
   "source": [
    "data['Nature Of Death'].describe().top"
   ]
  },
  {
   "cell_type": "code",
   "execution_count": 28,
   "metadata": {
    "collapsed": true
   },
   "outputs": [],
   "source": [
    "data['Nature Of Death'] = data['Nature Of Death'].fillna('Heart Attack')"
   ]
  },
  {
   "cell_type": "code",
   "execution_count": 29,
   "metadata": {},
   "outputs": [
    {
     "data": {
      "text/plain": [
       "'On-Scene Fire'"
      ]
     },
     "execution_count": 29,
     "metadata": {},
     "output_type": "execute_result"
    }
   ],
   "source": [
    "data['Duty'].describe().top"
   ]
  },
  {
   "cell_type": "code",
   "execution_count": 30,
   "metadata": {
    "collapsed": true
   },
   "outputs": [],
   "source": [
    "data['Duty'] = data['Duty'].fillna('On-Scene Fire')"
   ]
  },
  {
   "cell_type": "code",
   "execution_count": 31,
   "metadata": {},
   "outputs": [
    {
     "data": {
      "text/plain": [
       "Age                1441\n",
       "Rank               1441\n",
       "Classification     1441\n",
       "Cause Of Death     1441\n",
       "Nature Of Death    1441\n",
       "Duty               1441\n",
       "Activity           1441\n",
       "Emergency          1441\n",
       "Property Type      1441\n",
       "dtype: int64"
      ]
     },
     "execution_count": 31,
     "metadata": {},
     "output_type": "execute_result"
    }
   ],
   "source": [
    "data[categorical_cols].count(axis = 0)"
   ]
  },
  {
   "cell_type": "markdown",
   "metadata": {},
   "source": [
    "Будем предсказывать такой параметр как Cause Of Death"
   ]
  },
  {
   "cell_type": "code",
   "execution_count": 32,
   "metadata": {
    "collapsed": true
   },
   "outputs": [],
   "source": [
    "y = data['Cause Of Death']\n",
    "data = data.drop('Cause Of Death', axis=1)"
   ]
  },
  {
   "cell_type": "code",
   "execution_count": 33,
   "metadata": {},
   "outputs": [
    {
     "name": "stdout",
     "output_type": "stream",
     "text": [
      "Categorical: \n",
      "['Age', 'Rank', 'Classification', 'Nature Of Death', 'Duty', 'Activity', 'Emergency', 'Property Type']\n",
      "Numerical: \n",
      "[]\n",
      "\n",
      "Size of table: (1441, 8)\n"
     ]
    }
   ],
   "source": [
    "categorical_cols = [col for col in data.columns if data[col].dtype.name == \"object\"]\n",
    "numerical_cols = [col for col in data.columns if data[col].dtype.name != \"object\"]\n",
    "print(\"Categorical: \\n\" + str(categorical_cols))\n",
    "print(\"Numerical: \\n\" + str(numerical_cols))\n",
    "print(\"\\nSize of table: \" + str(data.shape))"
   ]
  },
  {
   "cell_type": "markdown",
   "metadata": {},
   "source": [
    "Векторизация Поделим наши признаки на два типа: бинарные (принимают только 2 возможных значения) и небинарные."
   ]
  },
  {
   "cell_type": "code",
   "execution_count": 34,
   "metadata": {},
   "outputs": [
    {
     "name": "stdout",
     "output_type": "stream",
     "text": [
      "[] ['Age', 'Rank', 'Classification', 'Nature Of Death', 'Duty', 'Activity', 'Emergency', 'Property Type']\n"
     ]
    }
   ],
   "source": [
    "data_describe = data.describe(include = [object])\n",
    "binary_columns = [c for c in categorical_cols if data_describe[c]['unique'] == 2]\n",
    "nonbinary_columns = [c for c in categorical_cols if data_describe[c]['unique'] > 2]\n",
    "print(binary_columns, nonbinary_columns)"
   ]
  },
  {
   "cell_type": "markdown",
   "metadata": {},
   "source": [
    "К небинарным признакам применим метод векторизации."
   ]
  },
  {
   "cell_type": "code",
   "execution_count": 35,
   "metadata": {},
   "outputs": [
    {
     "name": "stdout",
     "output_type": "stream",
     "text": [
      "Index(['Age_14', 'Age_15', 'Age_16', 'Age_17', 'Age_18', 'Age_19', 'Age_20',\n",
      "       'Age_21', 'Age_22', 'Age_23',\n",
      "       ...\n",
      "       'Property Type_Institutional', 'Property Type_Manufacturing',\n",
      "       'Property Type_Outdoor Property', 'Property Type_Public Assembly',\n",
      "       'Property Type_Residential', 'Property Type_Storage',\n",
      "       'Property Type_Store/Office', 'Property Type_Street/Road',\n",
      "       'Property Type_Training', 'Property Type_Vacant Property'],\n",
      "      dtype='object', length=366)\n"
     ]
    }
   ],
   "source": [
    "data_nonbinary = pd.get_dummies(data[nonbinary_columns])\n",
    "print(data_nonbinary.columns)"
   ]
  },
  {
   "cell_type": "markdown",
   "metadata": {},
   "source": [
    "Соединим все в одну таблицу."
   ]
  },
  {
   "cell_type": "code",
   "execution_count": 36,
   "metadata": {},
   "outputs": [
    {
     "name": "stdout",
     "output_type": "stream",
     "text": [
      "(1441, 366)\n"
     ]
    }
   ],
   "source": [
    "data = pd.concat((data_nonbinary, data[binary_columns]), axis = 1)\n",
    "print(data.shape)"
   ]
  },
  {
   "cell_type": "code",
   "execution_count": 37,
   "metadata": {},
   "outputs": [
    {
     "data": {
      "text/html": [
       "<div>\n",
       "<style>\n",
       "    .dataframe thead tr:only-child th {\n",
       "        text-align: right;\n",
       "    }\n",
       "\n",
       "    .dataframe thead th {\n",
       "        text-align: left;\n",
       "    }\n",
       "\n",
       "    .dataframe tbody tr th {\n",
       "        vertical-align: top;\n",
       "    }\n",
       "</style>\n",
       "<table border=\"1\" class=\"dataframe\">\n",
       "  <thead>\n",
       "    <tr style=\"text-align: right;\">\n",
       "      <th></th>\n",
       "      <th>Age_14</th>\n",
       "      <th>Age_15</th>\n",
       "      <th>Age_16</th>\n",
       "      <th>Age_17</th>\n",
       "      <th>Age_18</th>\n",
       "      <th>Age_19</th>\n",
       "      <th>Age_20</th>\n",
       "      <th>Age_21</th>\n",
       "      <th>Age_22</th>\n",
       "      <th>Age_23</th>\n",
       "      <th>...</th>\n",
       "      <th>Property Type_Institutional</th>\n",
       "      <th>Property Type_Manufacturing</th>\n",
       "      <th>Property Type_Outdoor Property</th>\n",
       "      <th>Property Type_Public Assembly</th>\n",
       "      <th>Property Type_Residential</th>\n",
       "      <th>Property Type_Storage</th>\n",
       "      <th>Property Type_Store/Office</th>\n",
       "      <th>Property Type_Street/Road</th>\n",
       "      <th>Property Type_Training</th>\n",
       "      <th>Property Type_Vacant Property</th>\n",
       "    </tr>\n",
       "  </thead>\n",
       "  <tbody>\n",
       "    <tr>\n",
       "      <th>count</th>\n",
       "      <td>1441.000000</td>\n",
       "      <td>1441.000000</td>\n",
       "      <td>1441.000000</td>\n",
       "      <td>1441.000000</td>\n",
       "      <td>1441.000000</td>\n",
       "      <td>1441.000000</td>\n",
       "      <td>1441.000000</td>\n",
       "      <td>1441.000000</td>\n",
       "      <td>1441.000000</td>\n",
       "      <td>1441.000000</td>\n",
       "      <td>...</td>\n",
       "      <td>1441.000000</td>\n",
       "      <td>1441.000000</td>\n",
       "      <td>1441.000000</td>\n",
       "      <td>1441.000000</td>\n",
       "      <td>1441.000000</td>\n",
       "      <td>1441.000000</td>\n",
       "      <td>1441.000000</td>\n",
       "      <td>1441.000000</td>\n",
       "      <td>1441.000000</td>\n",
       "      <td>1441.000000</td>\n",
       "    </tr>\n",
       "    <tr>\n",
       "      <th>mean</th>\n",
       "      <td>0.000694</td>\n",
       "      <td>0.000694</td>\n",
       "      <td>0.001388</td>\n",
       "      <td>0.003470</td>\n",
       "      <td>0.006940</td>\n",
       "      <td>0.018737</td>\n",
       "      <td>0.012491</td>\n",
       "      <td>0.011797</td>\n",
       "      <td>0.009715</td>\n",
       "      <td>0.014573</td>\n",
       "      <td>...</td>\n",
       "      <td>0.008328</td>\n",
       "      <td>0.013185</td>\n",
       "      <td>0.212353</td>\n",
       "      <td>0.010409</td>\n",
       "      <td>0.276891</td>\n",
       "      <td>0.009715</td>\n",
       "      <td>0.167939</td>\n",
       "      <td>0.267176</td>\n",
       "      <td>0.000694</td>\n",
       "      <td>0.010409</td>\n",
       "    </tr>\n",
       "    <tr>\n",
       "      <th>std</th>\n",
       "      <td>0.026343</td>\n",
       "      <td>0.026343</td>\n",
       "      <td>0.037242</td>\n",
       "      <td>0.058823</td>\n",
       "      <td>0.083044</td>\n",
       "      <td>0.135642</td>\n",
       "      <td>0.111103</td>\n",
       "      <td>0.108011</td>\n",
       "      <td>0.098121</td>\n",
       "      <td>0.119878</td>\n",
       "      <td>...</td>\n",
       "      <td>0.090906</td>\n",
       "      <td>0.114107</td>\n",
       "      <td>0.409115</td>\n",
       "      <td>0.101529</td>\n",
       "      <td>0.447618</td>\n",
       "      <td>0.098121</td>\n",
       "      <td>0.373942</td>\n",
       "      <td>0.442638</td>\n",
       "      <td>0.026343</td>\n",
       "      <td>0.101529</td>\n",
       "    </tr>\n",
       "    <tr>\n",
       "      <th>min</th>\n",
       "      <td>0.000000</td>\n",
       "      <td>0.000000</td>\n",
       "      <td>0.000000</td>\n",
       "      <td>0.000000</td>\n",
       "      <td>0.000000</td>\n",
       "      <td>0.000000</td>\n",
       "      <td>0.000000</td>\n",
       "      <td>0.000000</td>\n",
       "      <td>0.000000</td>\n",
       "      <td>0.000000</td>\n",
       "      <td>...</td>\n",
       "      <td>0.000000</td>\n",
       "      <td>0.000000</td>\n",
       "      <td>0.000000</td>\n",
       "      <td>0.000000</td>\n",
       "      <td>0.000000</td>\n",
       "      <td>0.000000</td>\n",
       "      <td>0.000000</td>\n",
       "      <td>0.000000</td>\n",
       "      <td>0.000000</td>\n",
       "      <td>0.000000</td>\n",
       "    </tr>\n",
       "    <tr>\n",
       "      <th>25%</th>\n",
       "      <td>0.000000</td>\n",
       "      <td>0.000000</td>\n",
       "      <td>0.000000</td>\n",
       "      <td>0.000000</td>\n",
       "      <td>0.000000</td>\n",
       "      <td>0.000000</td>\n",
       "      <td>0.000000</td>\n",
       "      <td>0.000000</td>\n",
       "      <td>0.000000</td>\n",
       "      <td>0.000000</td>\n",
       "      <td>...</td>\n",
       "      <td>0.000000</td>\n",
       "      <td>0.000000</td>\n",
       "      <td>0.000000</td>\n",
       "      <td>0.000000</td>\n",
       "      <td>0.000000</td>\n",
       "      <td>0.000000</td>\n",
       "      <td>0.000000</td>\n",
       "      <td>0.000000</td>\n",
       "      <td>0.000000</td>\n",
       "      <td>0.000000</td>\n",
       "    </tr>\n",
       "    <tr>\n",
       "      <th>50%</th>\n",
       "      <td>0.000000</td>\n",
       "      <td>0.000000</td>\n",
       "      <td>0.000000</td>\n",
       "      <td>0.000000</td>\n",
       "      <td>0.000000</td>\n",
       "      <td>0.000000</td>\n",
       "      <td>0.000000</td>\n",
       "      <td>0.000000</td>\n",
       "      <td>0.000000</td>\n",
       "      <td>0.000000</td>\n",
       "      <td>...</td>\n",
       "      <td>0.000000</td>\n",
       "      <td>0.000000</td>\n",
       "      <td>0.000000</td>\n",
       "      <td>0.000000</td>\n",
       "      <td>0.000000</td>\n",
       "      <td>0.000000</td>\n",
       "      <td>0.000000</td>\n",
       "      <td>0.000000</td>\n",
       "      <td>0.000000</td>\n",
       "      <td>0.000000</td>\n",
       "    </tr>\n",
       "    <tr>\n",
       "      <th>75%</th>\n",
       "      <td>0.000000</td>\n",
       "      <td>0.000000</td>\n",
       "      <td>0.000000</td>\n",
       "      <td>0.000000</td>\n",
       "      <td>0.000000</td>\n",
       "      <td>0.000000</td>\n",
       "      <td>0.000000</td>\n",
       "      <td>0.000000</td>\n",
       "      <td>0.000000</td>\n",
       "      <td>0.000000</td>\n",
       "      <td>...</td>\n",
       "      <td>0.000000</td>\n",
       "      <td>0.000000</td>\n",
       "      <td>0.000000</td>\n",
       "      <td>0.000000</td>\n",
       "      <td>1.000000</td>\n",
       "      <td>0.000000</td>\n",
       "      <td>0.000000</td>\n",
       "      <td>1.000000</td>\n",
       "      <td>0.000000</td>\n",
       "      <td>0.000000</td>\n",
       "    </tr>\n",
       "    <tr>\n",
       "      <th>max</th>\n",
       "      <td>1.000000</td>\n",
       "      <td>1.000000</td>\n",
       "      <td>1.000000</td>\n",
       "      <td>1.000000</td>\n",
       "      <td>1.000000</td>\n",
       "      <td>1.000000</td>\n",
       "      <td>1.000000</td>\n",
       "      <td>1.000000</td>\n",
       "      <td>1.000000</td>\n",
       "      <td>1.000000</td>\n",
       "      <td>...</td>\n",
       "      <td>1.000000</td>\n",
       "      <td>1.000000</td>\n",
       "      <td>1.000000</td>\n",
       "      <td>1.000000</td>\n",
       "      <td>1.000000</td>\n",
       "      <td>1.000000</td>\n",
       "      <td>1.000000</td>\n",
       "      <td>1.000000</td>\n",
       "      <td>1.000000</td>\n",
       "      <td>1.000000</td>\n",
       "    </tr>\n",
       "  </tbody>\n",
       "</table>\n",
       "<p>8 rows × 366 columns</p>\n",
       "</div>"
      ],
      "text/plain": [
       "            Age_14       Age_15       Age_16       Age_17       Age_18  \\\n",
       "count  1441.000000  1441.000000  1441.000000  1441.000000  1441.000000   \n",
       "mean      0.000694     0.000694     0.001388     0.003470     0.006940   \n",
       "std       0.026343     0.026343     0.037242     0.058823     0.083044   \n",
       "min       0.000000     0.000000     0.000000     0.000000     0.000000   \n",
       "25%       0.000000     0.000000     0.000000     0.000000     0.000000   \n",
       "50%       0.000000     0.000000     0.000000     0.000000     0.000000   \n",
       "75%       0.000000     0.000000     0.000000     0.000000     0.000000   \n",
       "max       1.000000     1.000000     1.000000     1.000000     1.000000   \n",
       "\n",
       "            Age_19       Age_20       Age_21       Age_22       Age_23  \\\n",
       "count  1441.000000  1441.000000  1441.000000  1441.000000  1441.000000   \n",
       "mean      0.018737     0.012491     0.011797     0.009715     0.014573   \n",
       "std       0.135642     0.111103     0.108011     0.098121     0.119878   \n",
       "min       0.000000     0.000000     0.000000     0.000000     0.000000   \n",
       "25%       0.000000     0.000000     0.000000     0.000000     0.000000   \n",
       "50%       0.000000     0.000000     0.000000     0.000000     0.000000   \n",
       "75%       0.000000     0.000000     0.000000     0.000000     0.000000   \n",
       "max       1.000000     1.000000     1.000000     1.000000     1.000000   \n",
       "\n",
       "                   ...                Property Type_Institutional  \\\n",
       "count              ...                                1441.000000   \n",
       "mean               ...                                   0.008328   \n",
       "std                ...                                   0.090906   \n",
       "min                ...                                   0.000000   \n",
       "25%                ...                                   0.000000   \n",
       "50%                ...                                   0.000000   \n",
       "75%                ...                                   0.000000   \n",
       "max                ...                                   1.000000   \n",
       "\n",
       "       Property Type_Manufacturing  Property Type_Outdoor Property  \\\n",
       "count                  1441.000000                     1441.000000   \n",
       "mean                      0.013185                        0.212353   \n",
       "std                       0.114107                        0.409115   \n",
       "min                       0.000000                        0.000000   \n",
       "25%                       0.000000                        0.000000   \n",
       "50%                       0.000000                        0.000000   \n",
       "75%                       0.000000                        0.000000   \n",
       "max                       1.000000                        1.000000   \n",
       "\n",
       "       Property Type_Public Assembly  Property Type_Residential  \\\n",
       "count                    1441.000000                1441.000000   \n",
       "mean                        0.010409                   0.276891   \n",
       "std                         0.101529                   0.447618   \n",
       "min                         0.000000                   0.000000   \n",
       "25%                         0.000000                   0.000000   \n",
       "50%                         0.000000                   0.000000   \n",
       "75%                         0.000000                   1.000000   \n",
       "max                         1.000000                   1.000000   \n",
       "\n",
       "       Property Type_Storage  Property Type_Store/Office  \\\n",
       "count            1441.000000                 1441.000000   \n",
       "mean                0.009715                    0.167939   \n",
       "std                 0.098121                    0.373942   \n",
       "min                 0.000000                    0.000000   \n",
       "25%                 0.000000                    0.000000   \n",
       "50%                 0.000000                    0.000000   \n",
       "75%                 0.000000                    0.000000   \n",
       "max                 1.000000                    1.000000   \n",
       "\n",
       "       Property Type_Street/Road  Property Type_Training  \\\n",
       "count                1441.000000             1441.000000   \n",
       "mean                    0.267176                0.000694   \n",
       "std                     0.442638                0.026343   \n",
       "min                     0.000000                0.000000   \n",
       "25%                     0.000000                0.000000   \n",
       "50%                     0.000000                0.000000   \n",
       "75%                     1.000000                0.000000   \n",
       "max                     1.000000                1.000000   \n",
       "\n",
       "       Property Type_Vacant Property  \n",
       "count                    1441.000000  \n",
       "mean                        0.010409  \n",
       "std                         0.101529  \n",
       "min                         0.000000  \n",
       "25%                         0.000000  \n",
       "50%                         0.000000  \n",
       "75%                         0.000000  \n",
       "max                         1.000000  \n",
       "\n",
       "[8 rows x 366 columns]"
      ]
     },
     "execution_count": 37,
     "metadata": {},
     "output_type": "execute_result"
    }
   ],
   "source": [
    "data.describe()"
   ]
  },
  {
   "cell_type": "markdown",
   "metadata": {},
   "source": [
    "Х и Y"
   ]
  },
  {
   "cell_type": "code",
   "execution_count": 38,
   "metadata": {
    "collapsed": true
   },
   "outputs": [],
   "source": [
    "X = data\n",
    "feature_names = X.columns"
   ]
  },
  {
   "cell_type": "code",
   "execution_count": 39,
   "metadata": {},
   "outputs": [
    {
     "data": {
      "text/plain": [
       "count                    1441\n",
       "unique                     14\n",
       "top       Stress/Overexertion\n",
       "freq                      668\n",
       "Name: Cause Of Death, dtype: object"
      ]
     },
     "execution_count": 39,
     "metadata": {},
     "output_type": "execute_result"
    }
   ],
   "source": [
    "y.describe()"
   ]
  },
  {
   "cell_type": "code",
   "execution_count": 40,
   "metadata": {},
   "outputs": [
    {
     "data": {
      "text/plain": [
       "pandas.core.indexes.base.Index"
      ]
     },
     "execution_count": 40,
     "metadata": {},
     "output_type": "execute_result"
    }
   ],
   "source": [
    "type(feature_names)"
   ]
  },
  {
   "cell_type": "code",
   "execution_count": 41,
   "metadata": {},
   "outputs": [
    {
     "data": {
      "text/plain": [
       "Index(['Age_14', 'Age_15', 'Age_16', 'Age_17', 'Age_18', 'Age_19', 'Age_20',\n",
       "       'Age_21', 'Age_22', 'Age_23',\n",
       "       ...\n",
       "       'Property Type_Institutional', 'Property Type_Manufacturing',\n",
       "       'Property Type_Outdoor Property', 'Property Type_Public Assembly',\n",
       "       'Property Type_Residential', 'Property Type_Storage',\n",
       "       'Property Type_Store/Office', 'Property Type_Street/Road',\n",
       "       'Property Type_Training', 'Property Type_Vacant Property'],\n",
       "      dtype='object', length=366)"
      ]
     },
     "execution_count": 41,
     "metadata": {},
     "output_type": "execute_result"
    }
   ],
   "source": [
    "feature_names"
   ]
  },
  {
   "cell_type": "code",
   "execution_count": 42,
   "metadata": {},
   "outputs": [
    {
     "name": "stdout",
     "output_type": "stream",
     "text": [
      "(1441, 366)\n",
      "(1441,)\n"
     ]
    }
   ],
   "source": [
    "print(X.shape)\n",
    "print(y.shape)\n",
    "N, d = X.shape"
   ]
  },
  {
   "cell_type": "code",
   "execution_count": 43,
   "metadata": {},
   "outputs": [
    {
     "data": {
      "text/plain": [
       "pandas.core.series.Series"
      ]
     },
     "execution_count": 43,
     "metadata": {},
     "output_type": "execute_result"
    }
   ],
   "source": [
    "type(y)"
   ]
  },
  {
   "cell_type": "code",
   "execution_count": 44,
   "metadata": {},
   "outputs": [
    {
     "name": "stdout",
     "output_type": "stream",
     "text": [
      "1008 433\n"
     ]
    }
   ],
   "source": [
    "from sklearn.model_selection import train_test_split\n",
    "X_train, X_test, y_train, y_test = train_test_split(X, y, test_size = 0.3, random_state = 1)\n",
    "\n",
    "N_train, _ = X_train.shape \n",
    "N_test,  _ = X_test.shape \n",
    "\n",
    "print(N_train, N_test)"
   ]
  },
  {
   "cell_type": "markdown",
   "metadata": {},
   "source": [
    "KNN"
   ]
  },
  {
   "cell_type": "code",
   "execution_count": 45,
   "metadata": {
    "collapsed": true
   },
   "outputs": [],
   "source": [
    "from sklearn.neighbors import KNeighborsClassifier"
   ]
  },
  {
   "cell_type": "code",
   "execution_count": 46,
   "metadata": {
    "collapsed": true
   },
   "outputs": [],
   "source": [
    "knn = KNeighborsClassifier(n_neighbors = 10)"
   ]
  },
  {
   "cell_type": "code",
   "execution_count": 47,
   "metadata": {},
   "outputs": [
    {
     "data": {
      "text/plain": [
       "KNeighborsClassifier(algorithm='auto', leaf_size=30, metric='minkowski',\n",
       "           metric_params=None, n_jobs=1, n_neighbors=10, p=2,\n",
       "           weights='uniform')"
      ]
     },
     "execution_count": 47,
     "metadata": {},
     "output_type": "execute_result"
    }
   ],
   "source": [
    "knn.fit(X_train, y_train)"
   ]
  },
  {
   "cell_type": "code",
   "execution_count": 48,
   "metadata": {},
   "outputs": [
    {
     "data": {
      "text/plain": [
       "KNeighborsClassifier(algorithm='auto', leaf_size=30, metric='minkowski',\n",
       "           metric_params=None, n_jobs=1, n_neighbors=10, p=2,\n",
       "           weights='uniform')"
      ]
     },
     "execution_count": 48,
     "metadata": {},
     "output_type": "execute_result"
    }
   ],
   "source": [
    "knn"
   ]
  },
  {
   "cell_type": "code",
   "execution_count": 49,
   "metadata": {},
   "outputs": [
    {
     "name": "stdout",
     "output_type": "stream",
     "text": [
      "0.205357142857 0.226327944573\n"
     ]
    }
   ],
   "source": [
    "y_train_predict = knn.predict(X_train)\n",
    "y_test_predict = knn.predict(X_test)\n",
    "\n",
    "err_train = np.mean(y_train != y_train_predict)\n",
    "err_test  = np.mean(y_test  != y_test_predict)\n",
    "\n",
    "print(err_train, err_test)"
   ]
  },
  {
   "cell_type": "markdown",
   "metadata": {},
   "source": [
    "Другой способ вычисления ошибки."
   ]
  },
  {
   "cell_type": "code",
   "execution_count": 50,
   "metadata": {
    "collapsed": true
   },
   "outputs": [],
   "source": [
    "err_test = 1 - knn.score(X_test, y_test)"
   ]
  },
  {
   "cell_type": "code",
   "execution_count": 51,
   "metadata": {},
   "outputs": [
    {
     "data": {
      "text/plain": [
       "0.2263279445727483"
      ]
     },
     "execution_count": 51,
     "metadata": {},
     "output_type": "execute_result"
    }
   ],
   "source": [
    "err_test"
   ]
  },
  {
   "cell_type": "markdown",
   "metadata": {},
   "source": [
    "С помощью метода confusion matrix вычисляем точность работы классификатора. Элемент матрицы (i, j) будет равен числу объектов из группы i, а предсказанных в группу j"
   ]
  },
  {
   "cell_type": "code",
   "execution_count": 52,
   "metadata": {},
   "outputs": [
    {
     "name": "stdout",
     "output_type": "stream",
     "text": [
      "[[  0   0   0   0   0   0   0   0   0   0   0   0   0]\n",
      " [  0   8   0   0   0   0   0   0   0   0   4   0   0]\n",
      " [  0   0   0   0   0   0   0   0   0   1   0   0   0]\n",
      " [  0   1   0   0   0   0   0   0   0   0   4   0   0]\n",
      " [  0   0   0   0   0   0   0   1   0   3   4   0   0]\n",
      " [  0   5   0   0   0   2   5   0   0   4   2   0   3]\n",
      " [  0   2   0   0   0   2  42   0   0   4   1   0   6]\n",
      " [  1   1   0   0   0   0   1   0   0   6   0   0   0]\n",
      " [  0   0   0   0   0   0   0   0   0   1   1   0   0]\n",
      " [  0   1   0   0   0   0   2   0   0 197   3   0   0]\n",
      " [  0   2   0   0   0   0   2   0   0   2  47   0   0]\n",
      " [  0   0   0   0   0   0   0   0   0   1   0   0   0]\n",
      " [  0   0   0   0   0   0  21   0   0   0   1   0  39]]\n"
     ]
    }
   ],
   "source": [
    "from sklearn.metrics import confusion_matrix\n",
    "\n",
    "print(confusion_matrix(y_test, y_test_predict))"
   ]
  },
  {
   "cell_type": "code",
   "execution_count": 53,
   "metadata": {},
   "outputs": [
    {
     "name": "stderr",
     "output_type": "stream",
     "text": [
      "C:\\Users\\USER\\Anaconda3\\lib\\site-packages\\sklearn\\model_selection\\_split.py:605: Warning: The least populated class in y has only 1 members, which is too few. The minimum number of members in any class cannot be less than n_splits=10.\n",
      "  % (min_groups, self.n_splits)), Warning)\n"
     ]
    },
    {
     "name": "stdout",
     "output_type": "stream",
     "text": [
      "0.251984126984 15\n"
     ]
    }
   ],
   "source": [
    "from sklearn.model_selection import GridSearchCV\n",
    "nnb = [1, 3, 5, 10, 15, 20, 25, 35, 45, 55]\n",
    "knn = KNeighborsClassifier()\n",
    "grid = GridSearchCV(knn, param_grid = {'n_neighbors': nnb}, cv=10)\n",
    "grid.fit(X_train, y_train)\n",
    "\n",
    "best_cv_err = 1 - grid.best_score_\n",
    "best_n_neighbors = grid.best_estimator_.n_neighbors\n",
    "print(best_cv_err, best_n_neighbors)"
   ]
  },
  {
   "cell_type": "markdown",
   "metadata": {},
   "source": [
    "Проведем классификацию и посчитаем ошибки при данном параметре k"
   ]
  },
  {
   "cell_type": "code",
   "execution_count": 54,
   "metadata": {},
   "outputs": [
    {
     "name": "stdout",
     "output_type": "stream",
     "text": [
      "0.208333333333 0.205542725173\n"
     ]
    }
   ],
   "source": [
    "knn = KNeighborsClassifier(n_neighbors = best_n_neighbors).fit(X_train, y_train)\n",
    "\n",
    "err_train = np.mean(y_train != knn.predict(X_train))\n",
    "err_test  = np.mean(y_test  != knn.predict(X_test))\n",
    "\n",
    "print(err_train, err_test)"
   ]
  },
  {
   "cell_type": "markdown",
   "metadata": {},
   "source": [
    "Разобьем данные на обучающую и тестовую выборки, 33% пойдет в тестовую."
   ]
  },
  {
   "cell_type": "code",
   "execution_count": 55,
   "metadata": {
    "collapsed": true
   },
   "outputs": [],
   "source": [
    "X_train, X_test, y_train, y_test = train_test_split(X, y, test_size = 0.33, random_state = 7)\n",
    "N_test, _ = X_test.shape"
   ]
  },
  {
   "cell_type": "markdown",
   "metadata": {},
   "source": [
    "Обучаем MLP классификатор. Рассматриваем нейронную сеть с одним скрытым слоем с 5 нейронами. Функция активации для скрытого слоя f(x) = 1 / (1 + exp(-x))."
   ]
  },
  {
   "cell_type": "code",
   "execution_count": 56,
   "metadata": {},
   "outputs": [
    {
     "data": {
      "text/plain": [
       "MLPClassifier(activation='logistic', alpha=0.0001, batch_size='auto',\n",
       "       beta_1=0.9, beta_2=0.999, early_stopping=False, epsilon=1e-08,\n",
       "       hidden_layer_sizes=5, learning_rate='constant',\n",
       "       learning_rate_init=0.001, max_iter=200, momentum=0.9,\n",
       "       nesterovs_momentum=True, power_t=0.5, random_state=24, shuffle=True,\n",
       "       solver='lbfgs', tol=0.0001, validation_fraction=0.1, verbose=False,\n",
       "       warm_start=False)"
      ]
     },
     "execution_count": 56,
     "metadata": {},
     "output_type": "execute_result"
    }
   ],
   "source": [
    "from sklearn.neural_network import MLPClassifier\n",
    "mlp_model = MLPClassifier(hidden_layer_sizes = (5), solver = 'lbfgs', activation = 'logistic', random_state = 24)\n",
    "mlp_model.fit(X_train, y_train)"
   ]
  },
  {
   "cell_type": "code",
   "execution_count": 57,
   "metadata": {},
   "outputs": [
    {
     "name": "stdout",
     "output_type": "stream",
     "text": [
      "0.0227979274611 0.273109243697\n"
     ]
    }
   ],
   "source": [
    "y_train_pred = mlp_model.predict(X_train)\n",
    "y_test_pred = mlp_model.predict(X_test)\n",
    "\n",
    "print(np.mean(y_train != y_train_pred), np.mean(y_test != y_test_pred))"
   ]
  },
  {
   "cell_type": "markdown",
   "metadata": {},
   "source": [
    "Наблюдаем переобучение, т.к. ошибка на обучающей выборке меньше, чем на тестовой.\n",
    "\n",
    "Увеличим число нейронов на скрытом слое до 20 и посмотрим на значения ошибок."
   ]
  },
  {
   "cell_type": "code",
   "execution_count": 58,
   "metadata": {},
   "outputs": [
    {
     "data": {
      "text/plain": [
       "MLPClassifier(activation='logistic', alpha=0.0001, batch_size='auto',\n",
       "       beta_1=0.9, beta_2=0.999, early_stopping=False, epsilon=1e-08,\n",
       "       hidden_layer_sizes=20, learning_rate='constant',\n",
       "       learning_rate_init=0.001, max_iter=200, momentum=0.9,\n",
       "       nesterovs_momentum=True, power_t=0.5, random_state=24, shuffle=True,\n",
       "       solver='lbfgs', tol=0.0001, validation_fraction=0.1, verbose=False,\n",
       "       warm_start=False)"
      ]
     },
     "execution_count": 58,
     "metadata": {},
     "output_type": "execute_result"
    }
   ],
   "source": [
    "mlp_model = MLPClassifier(hidden_layer_sizes = (20), solver = 'lbfgs', activation = 'logistic', random_state = 24)\n",
    "mlp_model.fit(X_train, y_train)"
   ]
  },
  {
   "cell_type": "code",
   "execution_count": 59,
   "metadata": {},
   "outputs": [
    {
     "name": "stdout",
     "output_type": "stream",
     "text": [
      "0.00414507772021 0.237394957983\n"
     ]
    }
   ],
   "source": [
    "y_train_pred = mlp_model.predict(X_train)\n",
    "y_test_pred = mlp_model.predict(X_test)\n",
    "\n",
    "print(np.mean(y_train != y_train_pred), np.mean(y_test != y_test_pred))"
   ]
  },
  {
   "cell_type": "markdown",
   "metadata": {},
   "source": [
    "Перебрав количество нейронов от 10 до 100 замечаем, что наименьшая ошибка наблюдается при количестве нейронов равном 20.Теперь попробуем использовать персептрон с двумя скрытыми слоями"
   ]
  },
  {
   "cell_type": "code",
   "execution_count": 60,
   "metadata": {},
   "outputs": [
    {
     "data": {
      "text/plain": [
       "MLPClassifier(activation='logistic', alpha=0.0001, batch_size='auto',\n",
       "       beta_1=0.9, beta_2=0.999, early_stopping=False, epsilon=1e-08,\n",
       "       hidden_layer_sizes=(90, 10), learning_rate='constant',\n",
       "       learning_rate_init=0.001, max_iter=200, momentum=0.9,\n",
       "       nesterovs_momentum=True, power_t=0.5, random_state=24, shuffle=True,\n",
       "       solver='lbfgs', tol=0.0001, validation_fraction=0.1, verbose=False,\n",
       "       warm_start=False)"
      ]
     },
     "execution_count": 60,
     "metadata": {},
     "output_type": "execute_result"
    }
   ],
   "source": [
    "mlp_model = MLPClassifier(hidden_layer_sizes = (90, 10), solver = 'lbfgs', activation = 'logistic', random_state = 24)\n",
    "mlp_model.fit(X_train, y_train)"
   ]
  },
  {
   "cell_type": "code",
   "execution_count": 61,
   "metadata": {},
   "outputs": [
    {
     "name": "stdout",
     "output_type": "stream",
     "text": [
      "0.040414507772 0.266806722689\n"
     ]
    }
   ],
   "source": [
    "y_train_pred = mlp_model.predict(X_train)\n",
    "y_test_pred = mlp_model.predict(X_test)\n",
    "\n",
    "print(np.mean(y_train != y_train_pred), np.mean(y_test != y_test_pred))"
   ]
  },
  {
   "cell_type": "markdown",
   "metadata": {},
   "source": [
    "При проведении тестов не найдена ситуация, где не наблюдалось бы переобучение. Подбор гиперпараметров Подбор количества нейронов в скрытых слоях Построим график зависимости ошибок от количества нейронов в скрытом слое (1 скрытый слой)"
   ]
  },
  {
   "cell_type": "code",
   "execution_count": 62,
   "metadata": {},
   "outputs": [
    {
     "name": "stdout",
     "output_type": "stream",
     "text": [
      "Минимальная ошибка:\n",
      "0.00414507772021 0.220588235294\n",
      "Оптимальное количество нейронов:\n",
      "27\n"
     ]
    },
    {
     "data": {
      "image/png": "[encoded data removed]",
      "text/plain": [
       "<matplotlib.figure.Figure at 0x215036d4438>"
      ]
     },
     "metadata": {},
     "output_type": "display_data"
    }
   ],
   "source": [
    "neurs_arr_1 = np.arange(1, 100, 1)\n",
    "test_err = []\n",
    "train_err = []\n",
    "for neurs in neurs_arr_1:\n",
    "    mlp_model = MLPClassifier(hidden_layer_sizes = (neurs,), solver = 'lbfgs',\n",
    "                              activation = 'logistic', random_state = 24)\n",
    "    mlp_model.fit(X_train, y_train)\n",
    "\n",
    "    y_train_pred = mlp_model.predict(X_train)\n",
    "    y_test_pred = mlp_model.predict(X_test)\n",
    "    train_err.append(np.mean(y_train != y_train_pred))\n",
    "    test_err.append(np.mean(y_test != y_test_pred))\n",
    "\n",
    "print(\"Минимальная ошибка:\")\n",
    "min_train_err = np.min(train_err)\n",
    "min_test_err = np.min(test_err)\n",
    "print(min_train_err, min_test_err)\n",
    "\n",
    "print(\"Оптимальное количество нейронов:\")\n",
    "neurs_opt_1 = neurs_arr_1[test_err == min_test_err][0]\n",
    "print(neurs_opt_1)\n",
    "\n",
    "plt.figure(figsize = (10, 6))\n",
    "plt.semilogx(neurs_arr_1, train_err, 'b-o', label = 'train')\n",
    "plt.semilogx(neurs_arr_1, test_err, 'r-o', label = 'test')\n",
    "plt.xlim([np.min(neurs_arr_1),np.max(neurs_arr_1)])\n",
    "plt.title('Error vs. neurons count')\n",
    "plt.xlabel('neurons')\n",
    "plt.ylabel('error')\n",
    "plt.legend()\n",
    "pass"
   ]
  },
  {
   "cell_type": "markdown",
   "metadata": {},
   "source": [
    "Для оптимальной конфигурации нейронов наблюдается переобучение.\n",
    "\n",
    "Построим график зависимости ошибок от количества нейронов в скрытых слоях (2 скрытых слоя с одинаковым количеством нейронов)."
   ]
  },
  {
   "cell_type": "code",
   "execution_count": 63,
   "metadata": {},
   "outputs": [
    {
     "name": "stdout",
     "output_type": "stream",
     "text": [
      "Минимальная ошибка:\n",
      "0.00414507772021 0.220588235294\n",
      "Оптимальное количество нейронов:\n",
      "38\n"
     ]
    },
    {
     "data": {
      "image/png": "[encoded data removed]",
      "text/plain": [
       "<matplotlib.figure.Figure at 0x21503cbd278>"
      ]
     },
     "metadata": {},
     "output_type": "display_data"
    }
   ],
   "source": [
    "neurs_arr_2 = np.arange(10, 100, 1)\n",
    "test_err = []\n",
    "train_err = []\n",
    "for neurs in neurs_arr_2:\n",
    "    mlp_model = MLPClassifier(hidden_layer_sizes = (neurs, neurs), solver = 'lbfgs',\n",
    "                              activation = 'logistic', random_state = 24)\n",
    "    mlp_model.fit(X_train, y_train)\n",
    "\n",
    "    y_train_pred = mlp_model.predict(X_train)\n",
    "    y_test_pred = mlp_model.predict(X_test)\n",
    "    train_err.append(np.mean(y_train != y_train_pred))\n",
    "    test_err.append(np.mean(y_test != y_test_pred))\n",
    "\n",
    "print(\"Минимальная ошибка:\")\n",
    "min_train_err = np.min(train_err)\n",
    "min_test_err = np.min(test_err)\n",
    "print(min_train_err, min_test_err)\n",
    "\n",
    "print(\"Оптимальное количество нейронов:\")\n",
    "neurs_opt_2 = neurs_arr_2[test_err == min_test_err][0]\n",
    "print(neurs_opt_2)\n",
    "\n",
    "plt.figure(figsize = (10, 6))\n",
    "plt.semilogx(neurs_arr_2, train_err, 'b-o', label = 'train')\n",
    "plt.semilogx(neurs_arr_2, test_err, 'r-o', label = 'test')\n",
    "plt.xlim([np.min(neurs_arr_2),np.max(neurs_arr_2)])\n",
    "plt.title('Error vs. neurons count')\n",
    "plt.xlabel('neurons')\n",
    "plt.ylabel('error')\n",
    "plt.legend()\n",
    "pass"
   ]
  },
  {
   "cell_type": "markdown",
   "metadata": {},
   "source": [
    "Будем использовать конфигурацию с однослойной нейронной сетью с 27 нейронами.\n",
    "\n",
    "Подбор параметра регуляризации alpha"
   ]
  },
  {
   "cell_type": "code",
   "execution_count": 64,
   "metadata": {},
   "outputs": [
    {
     "name": "stdout",
     "output_type": "stream",
     "text": [
      "Минимальная ошибка:\n",
      "0.00414507772021 0.197478991597\n",
      "Оптимальное значение alpha:\n",
      "2.02358964773\n"
     ]
    },
    {
     "data": {
      "image/png": "[encoded data removed]",
      "text/plain": [
       "<matplotlib.figure.Figure at 0x21504108390>"
      ]
     },
     "metadata": {},
     "output_type": "display_data"
    }
   ],
   "source": [
    "alpha_arr = np.logspace(-5, 5, 50)\n",
    "test_err = []\n",
    "train_err = []\n",
    "for alpha in alpha_arr:\n",
    "    mlp_model = MLPClassifier(alpha = alpha, hidden_layer_sizes = (neurs_opt_1,), \n",
    "                              solver = 'lbfgs', activation = 'logistic', random_state = 24)\n",
    "    mlp_model.fit(X_train, y_train)\n",
    "\n",
    "    y_train_pred = mlp_model.predict(X_train)\n",
    "    y_test_pred = mlp_model.predict(X_test)\n",
    "    train_err.append(np.mean(y_train != y_train_pred))\n",
    "    test_err.append(np.mean(y_test != y_test_pred))\n",
    "\n",
    "print(\"Минимальная ошибка:\")\n",
    "min_train_err = np.min(train_err)\n",
    "min_test_err = np.min(test_err)\n",
    "print(min_train_err, min_test_err)\n",
    "\n",
    "print(\"Оптимальное значение alpha:\")\n",
    "alpha_opt = alpha_arr[test_err == min_test_err][0]\n",
    "print(alpha_opt)\n",
    "\n",
    "plt.figure(figsize = (10, 6))\n",
    "plt.semilogx(alpha_arr, train_err, 'b-o', label = 'train')\n",
    "plt.semilogx(alpha_arr, test_err, 'r-o', label = 'test')\n",
    "plt.xlim([np.min(alpha_arr),np.max(alpha_arr) ])\n",
    "plt.title('Error vs. alpha')\n",
    "plt.xlabel('alpha')\n",
    "plt.ylabel('error')\n",
    "plt.legend()\n",
    "pass"
   ]
  },
  {
   "cell_type": "code",
   "execution_count": null,
   "metadata": {
    "collapsed": true
   },
   "outputs": [],
   "source": []
  }
 ],
 "metadata": {
  "kernelspec": {
   "display_name": "Python 3",
   "language": "python",
   "name": "python3"
  },
  "language_info": {
   "codemirror_mode": {
    "name": "ipython",
    "version": 3
   },
   "file_extension": ".py",
   "mimetype": "text/x-python",
   "name": "python",
   "nbconvert_exporter": "python",
   "pygments_lexer": "ipython3",
   "version": "3.6.3"
  }
 },
 "nbformat": 4,
 "nbformat_minor": 2
}
